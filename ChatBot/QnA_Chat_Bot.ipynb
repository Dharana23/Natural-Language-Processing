{
  "nbformat": 4,
  "nbformat_minor": 0,
  "metadata": {
    "colab": {
      "name": "QnA Chat Bot.ipynb",
      "provenance": [],
      "collapsed_sections": []
    },
    "kernelspec": {
      "name": "python3",
      "display_name": "Python 3"
    },
    "accelerator": "GPU"
  },
  "cells": [
    {
      "cell_type": "code",
      "metadata": {
        "id": "7Ra7ITcyQgEj",
        "colab_type": "code",
        "colab": {}
      },
      "source": [
        "import pickle\n",
        "import numpy as np"
      ],
      "execution_count": 1,
      "outputs": []
    },
    {
      "cell_type": "code",
      "metadata": {
        "id": "pb3BbzJL169r",
        "colab_type": "code",
        "colab": {}
      },
      "source": [
        "with  open('/content/train_qa.txt', 'rb') as f:\n",
        "    train_data = pickle.load(f)"
      ],
      "execution_count": 2,
      "outputs": []
    },
    {
      "cell_type": "code",
      "metadata": {
        "id": "PGry3oOn2Whk",
        "colab_type": "code",
        "colab": {}
      },
      "source": [
        "with  open('/content/test_qa.txt', 'rb') as f:\n",
        "    test_data = pickle.load(f)"
      ],
      "execution_count": 3,
      "outputs": []
    },
    {
      "cell_type": "code",
      "metadata": {
        "id": "3I2rcr1y2gHL",
        "colab_type": "code",
        "colab": {}
      },
      "source": [
        "all_data = test_data + train_data"
      ],
      "execution_count": 4,
      "outputs": []
    },
    {
      "cell_type": "code",
      "metadata": {
        "id": "7QBc3qY53EPl",
        "colab_type": "code",
        "colab": {}
      },
      "source": [
        "vocab = set()\n",
        "\n",
        "for story, question, answer in all_data:\n",
        "    vocab = vocab.union(set(story))\n",
        "    vocab = vocab.union(set(question))"
      ],
      "execution_count": 5,
      "outputs": []
    },
    {
      "cell_type": "code",
      "metadata": {
        "id": "Qh9u4U2H3krE",
        "colab_type": "code",
        "colab": {}
      },
      "source": [
        "vocab.add('no')\n",
        "vocab.add('yes')"
      ],
      "execution_count": 6,
      "outputs": []
    },
    {
      "cell_type": "code",
      "metadata": {
        "id": "AxyZZ-8I3t_C",
        "colab_type": "code",
        "colab": {}
      },
      "source": [
        "vocab_len = len(vocab) + 1"
      ],
      "execution_count": 7,
      "outputs": []
    },
    {
      "cell_type": "code",
      "metadata": {
        "id": "yXTuNX0L31IE",
        "colab_type": "code",
        "colab": {
          "base_uri": "https://localhost:8080/",
          "height": 34
        },
        "outputId": "7363e55a-e9ed-4e42-dcfa-e81dfafd7bb1"
      },
      "source": [
        "all_story_lens = [len(data[0]) for data in all_data]\n",
        "max_story_len = max(all_story_lens)\n",
        "max_story_len"
      ],
      "execution_count": 12,
      "outputs": [
        {
          "output_type": "execute_result",
          "data": {
            "text/plain": [
              "156"
            ]
          },
          "metadata": {
            "tags": []
          },
          "execution_count": 12
        }
      ]
    },
    {
      "cell_type": "code",
      "metadata": {
        "id": "IcyWc1AY4L7H",
        "colab_type": "code",
        "colab": {
          "base_uri": "https://localhost:8080/",
          "height": 34
        },
        "outputId": "6b0ef046-dccf-4438-de78-acb2cff75b4a"
      },
      "source": [
        "max_question_len = max([len(data[1]) for data in all_data])\n",
        "max_question_len"
      ],
      "execution_count": 13,
      "outputs": [
        {
          "output_type": "execute_result",
          "data": {
            "text/plain": [
              "6"
            ]
          },
          "metadata": {
            "tags": []
          },
          "execution_count": 13
        }
      ]
    },
    {
      "cell_type": "code",
      "metadata": {
        "id": "zf17FeUK4lPe",
        "colab_type": "code",
        "colab": {}
      },
      "source": [
        "from keras.preprocessing.sequence import pad_sequences\n",
        "from keras.preprocessing.text import Tokenizer"
      ],
      "execution_count": 14,
      "outputs": []
    },
    {
      "cell_type": "code",
      "metadata": {
        "id": "cFxXEzv45QxM",
        "colab_type": "code",
        "colab": {}
      },
      "source": [
        "tokenizer = Tokenizer(filters=[])\n",
        "tokenizer.fit_on_texts(vocab)"
      ],
      "execution_count": 15,
      "outputs": []
    },
    {
      "cell_type": "code",
      "metadata": {
        "id": "IvLx6lrG5ZT9",
        "colab_type": "code",
        "colab": {}
      },
      "source": [
        "train_story_text = []\n",
        "train_question_text = []\n",
        "train_answers = []\n",
        "\n",
        "for story, question, answer in train_data:\n",
        "    train_story_text.append(story)\n",
        "    train_question_text.append(question)\n",
        "    train_answers.append(answer)"
      ],
      "execution_count": 19,
      "outputs": []
    },
    {
      "cell_type": "code",
      "metadata": {
        "id": "blnFKg2m58Vx",
        "colab_type": "code",
        "colab": {}
      },
      "source": [
        "train_story_seq = tokenizer.texts_to_sequences(train_story_text)"
      ],
      "execution_count": 20,
      "outputs": []
    },
    {
      "cell_type": "code",
      "metadata": {
        "id": "30WC65yw6VWx",
        "colab_type": "code",
        "colab": {}
      },
      "source": [
        "def vectorize_stories(data, word_index=tokenizer.word_index, max_story_len=max_story_len, max_question_len=max_question_len):\n",
        "    X = []\n",
        "    Xq = []\n",
        "    Y = []\n",
        "\n",
        "    for story, question, answer in data:\n",
        "        x = [word_index[word.lower()] for word in story]\n",
        "        xq = [word_index[word.lower()] for word in question]\n",
        "        y = np.zeros(len(word_index)+1)\n",
        "        y[word_index[answer]] = 1\n",
        "        X.append(x)\n",
        "        Xq.append(xq)\n",
        "        Y.append(y)\n",
        "\n",
        "    return (pad_sequences(X, maxlen=max_story_len), pad_sequences(Xq, maxlen=max_question_len), np.array(Y))"
      ],
      "execution_count": 21,
      "outputs": []
    },
    {
      "cell_type": "code",
      "metadata": {
        "id": "80nEiO468L4L",
        "colab_type": "code",
        "colab": {}
      },
      "source": [
        "inputs_train, question_train, answer_train = vectorize_stories(train_data)"
      ],
      "execution_count": 22,
      "outputs": []
    },
    {
      "cell_type": "code",
      "metadata": {
        "id": "JIPDtl4t8VIe",
        "colab_type": "code",
        "colab": {}
      },
      "source": [
        "inputs_test, question_test, answer_test = vectorize_stories(test_data)"
      ],
      "execution_count": 23,
      "outputs": []
    },
    {
      "cell_type": "code",
      "metadata": {
        "id": "oRZrQ42f8d-o",
        "colab_type": "code",
        "colab": {}
      },
      "source": [
        "from keras.models import Sequential, Model\n",
        "from keras.layers.embeddings import Embedding\n",
        "from keras.layers import Input, Activation, Dense, Permute, Dropout\n",
        "from keras.layers import add, dot, concatenate\n",
        "from keras.layers import LSTM"
      ],
      "execution_count": 32,
      "outputs": []
    },
    {
      "cell_type": "code",
      "metadata": {
        "id": "z3WOioCn-FPh",
        "colab_type": "code",
        "colab": {}
      },
      "source": [
        "input_sequence = Input((max_story_len,))\n",
        "question = Input((max_question_len,))"
      ],
      "execution_count": 33,
      "outputs": []
    },
    {
      "cell_type": "code",
      "metadata": {
        "id": "YIMmKORX-yyl",
        "colab_type": "code",
        "colab": {}
      },
      "source": [
        "input_encoder_m = Sequential()\n",
        "input_encoder_m.add(Embedding(input_dim=vocab_size,output_dim=64))\n",
        "input_encoder_m.add(Dropout(0.3))\n",
        "\n",
        "input_encoder_c = Sequential()\n",
        "input_encoder_c.add(Embedding(input_dim=vocab_size,output_dim=max_question_len))\n",
        "input_encoder_c.add(Dropout(0.3))\n",
        "\n",
        "question_encoder = Sequential()\n",
        "question_encoder.add(Embedding(input_dim=vocab_size,\n",
        "                               output_dim=64,\n",
        "                               input_length=max_question_len))\n",
        "question_encoder.add(Dropout(0.3))"
      ],
      "execution_count": 34,
      "outputs": []
    },
    {
      "cell_type": "code",
      "metadata": {
        "id": "QZujlXmYACfJ",
        "colab_type": "code",
        "colab": {}
      },
      "source": [
        "input_encoded_m = input_encoder_m(input_sequence)\n",
        "input_encoded_c = input_encoder_c(input_sequence)\n",
        "question_encoded = question_encoder(question)"
      ],
      "execution_count": 35,
      "outputs": []
    },
    {
      "cell_type": "code",
      "metadata": {
        "id": "7RiHtQ9LAWUL",
        "colab_type": "code",
        "colab": {}
      },
      "source": [
        "match = dot([input_encoded_m, question_encoded], axes=(2, 2))\n",
        "match = Activation('softmax')(match)"
      ],
      "execution_count": 36,
      "outputs": []
    },
    {
      "cell_type": "code",
      "metadata": {
        "id": "T-lwXlVQAnZ7",
        "colab_type": "code",
        "colab": {}
      },
      "source": [
        "response = add([match, input_encoded_c])\n",
        "response = Permute((2, 1))(response)"
      ],
      "execution_count": 37,
      "outputs": []
    },
    {
      "cell_type": "code",
      "metadata": {
        "id": "k7G9RGTYAy6a",
        "colab_type": "code",
        "colab": {}
      },
      "source": [
        "answer = concatenate([response, question_encoded])"
      ],
      "execution_count": 38,
      "outputs": []
    },
    {
      "cell_type": "code",
      "metadata": {
        "id": "AmYpmEQ0A6fh",
        "colab_type": "code",
        "colab": {
          "base_uri": "https://localhost:8080/",
          "height": 34
        },
        "outputId": "3800a29d-621e-428c-c8ec-99a54fff1bce"
      },
      "source": [
        "answer"
      ],
      "execution_count": 39,
      "outputs": [
        {
          "output_type": "execute_result",
          "data": {
            "text/plain": [
              "<tf.Tensor 'concatenate_2/concat:0' shape=(None, 6, 220) dtype=float32>"
            ]
          },
          "metadata": {
            "tags": []
          },
          "execution_count": 39
        }
      ]
    },
    {
      "cell_type": "code",
      "metadata": {
        "id": "EJIUPFIqA7u9",
        "colab_type": "code",
        "colab": {}
      },
      "source": [
        "answer = LSTM(32)(answer)\n",
        "answer = Dropout(0.5)(answer)\n",
        "answer = Dense(vocab_size)(answer)"
      ],
      "execution_count": 40,
      "outputs": []
    },
    {
      "cell_type": "code",
      "metadata": {
        "id": "miT9nvb2CMTc",
        "colab_type": "code",
        "colab": {}
      },
      "source": [
        "answer = Activation('softmax')(answer)"
      ],
      "execution_count": 41,
      "outputs": []
    },
    {
      "cell_type": "code",
      "metadata": {
        "id": "aLkBot6JCTP3",
        "colab_type": "code",
        "colab": {
          "base_uri": "https://localhost:8080/",
          "height": 714
        },
        "outputId": "3ba8016f-3d4a-404e-8f10-6c57a23061d4"
      },
      "source": [
        "model = Model([input_sequence, question], answer)\n",
        "model.compile(optimizer='rmsprop', loss='categorical_crossentropy', metrics=['accuracy'])\n",
        "model.summary()"
      ],
      "execution_count": 42,
      "outputs": [
        {
          "output_type": "stream",
          "text": [
            "Model: \"model_1\"\n",
            "__________________________________________________________________________________________________\n",
            "Layer (type)                    Output Shape         Param #     Connected to                     \n",
            "==================================================================================================\n",
            "input_3 (InputLayer)            (None, 156)          0                                            \n",
            "__________________________________________________________________________________________________\n",
            "input_4 (InputLayer)            (None, 6)            0                                            \n",
            "__________________________________________________________________________________________________\n",
            "sequential_4 (Sequential)       multiple             2432        input_3[0][0]                    \n",
            "__________________________________________________________________________________________________\n",
            "sequential_6 (Sequential)       (None, 6, 64)        2432        input_4[0][0]                    \n",
            "__________________________________________________________________________________________________\n",
            "dot_2 (Dot)                     (None, 156, 6)       0           sequential_4[1][0]               \n",
            "                                                                 sequential_6[1][0]               \n",
            "__________________________________________________________________________________________________\n",
            "activation_2 (Activation)       (None, 156, 6)       0           dot_2[0][0]                      \n",
            "__________________________________________________________________________________________________\n",
            "sequential_5 (Sequential)       multiple             228         input_3[0][0]                    \n",
            "__________________________________________________________________________________________________\n",
            "add_2 (Add)                     (None, 156, 6)       0           activation_2[0][0]               \n",
            "                                                                 sequential_5[1][0]               \n",
            "__________________________________________________________________________________________________\n",
            "permute_2 (Permute)             (None, 6, 156)       0           add_2[0][0]                      \n",
            "__________________________________________________________________________________________________\n",
            "concatenate_2 (Concatenate)     (None, 6, 220)       0           permute_2[0][0]                  \n",
            "                                                                 sequential_6[1][0]               \n",
            "__________________________________________________________________________________________________\n",
            "lstm_1 (LSTM)                   (None, 32)           32384       concatenate_2[0][0]              \n",
            "__________________________________________________________________________________________________\n",
            "dropout_7 (Dropout)             (None, 32)           0           lstm_1[0][0]                     \n",
            "__________________________________________________________________________________________________\n",
            "dense_1 (Dense)                 (None, 38)           1254        dropout_7[0][0]                  \n",
            "__________________________________________________________________________________________________\n",
            "activation_3 (Activation)       (None, 38)           0           dense_1[0][0]                    \n",
            "==================================================================================================\n",
            "Total params: 38,730\n",
            "Trainable params: 38,730\n",
            "Non-trainable params: 0\n",
            "__________________________________________________________________________________________________\n"
          ],
          "name": "stdout"
        }
      ]
    },
    {
      "cell_type": "code",
      "metadata": {
        "id": "uIn7AwEtCr_A",
        "colab_type": "code",
        "colab": {
          "base_uri": "https://localhost:8080/",
          "height": 1000
        },
        "outputId": "4800695f-a396-433b-d419-6ce97b2855c7"
      },
      "source": [
        "history = model.fit([inputs_train, question_train], answer_train, batch_size=32, epochs=120, validation_data=([inputs_test, question_test], answer_test))"
      ],
      "execution_count": 43,
      "outputs": [
        {
          "output_type": "stream",
          "text": [
            "/usr/local/lib/python3.6/dist-packages/tensorflow/python/framework/indexed_slices.py:434: UserWarning: Converting sparse IndexedSlices to a dense Tensor of unknown shape. This may consume a large amount of memory.\n",
            "  \"Converting sparse IndexedSlices to a dense Tensor of unknown shape. \"\n"
          ],
          "name": "stderr"
        },
        {
          "output_type": "stream",
          "text": [
            "Train on 10000 samples, validate on 1000 samples\n",
            "Epoch 1/120\n",
            "10000/10000 [==============================] - 11s 1ms/step - loss: 0.8758 - accuracy: 0.4874 - val_loss: 0.7004 - val_accuracy: 0.4970\n",
            "Epoch 2/120\n",
            "10000/10000 [==============================] - 9s 899us/step - loss: 0.7022 - accuracy: 0.4953 - val_loss: 0.6935 - val_accuracy: 0.5030\n",
            "Epoch 3/120\n",
            "10000/10000 [==============================] - 9s 909us/step - loss: 0.6956 - accuracy: 0.5013 - val_loss: 0.6983 - val_accuracy: 0.4970\n",
            "Epoch 4/120\n",
            "10000/10000 [==============================] - 9s 911us/step - loss: 0.6952 - accuracy: 0.5019 - val_loss: 0.6949 - val_accuracy: 0.4970\n",
            "Epoch 5/120\n",
            "10000/10000 [==============================] - 9s 917us/step - loss: 0.6945 - accuracy: 0.5047 - val_loss: 0.6935 - val_accuracy: 0.4970\n",
            "Epoch 6/120\n",
            "10000/10000 [==============================] - 9s 906us/step - loss: 0.6952 - accuracy: 0.4890 - val_loss: 0.6938 - val_accuracy: 0.4970\n",
            "Epoch 7/120\n",
            "10000/10000 [==============================] - 9s 900us/step - loss: 0.6944 - accuracy: 0.5041 - val_loss: 0.6934 - val_accuracy: 0.5030\n",
            "Epoch 8/120\n",
            "10000/10000 [==============================] - 9s 910us/step - loss: 0.6943 - accuracy: 0.5034 - val_loss: 0.6938 - val_accuracy: 0.5030\n",
            "Epoch 9/120\n",
            "10000/10000 [==============================] - 9s 916us/step - loss: 0.6942 - accuracy: 0.5026 - val_loss: 0.6941 - val_accuracy: 0.5100\n",
            "Epoch 10/120\n",
            "10000/10000 [==============================] - 9s 897us/step - loss: 0.6904 - accuracy: 0.5247 - val_loss: 0.6875 - val_accuracy: 0.5270\n",
            "Epoch 11/120\n",
            "10000/10000 [==============================] - 9s 919us/step - loss: 0.6771 - accuracy: 0.5658 - val_loss: 0.6646 - val_accuracy: 0.6160\n",
            "Epoch 12/120\n",
            "10000/10000 [==============================] - 9s 917us/step - loss: 0.6601 - accuracy: 0.5914 - val_loss: 0.6360 - val_accuracy: 0.6110\n",
            "Epoch 13/120\n",
            "10000/10000 [==============================] - 9s 908us/step - loss: 0.6273 - accuracy: 0.6453 - val_loss: 0.5903 - val_accuracy: 0.6740\n",
            "Epoch 14/120\n",
            "10000/10000 [==============================] - 9s 882us/step - loss: 0.5852 - accuracy: 0.6942 - val_loss: 0.5569 - val_accuracy: 0.7250\n",
            "Epoch 15/120\n",
            "10000/10000 [==============================] - 9s 914us/step - loss: 0.5539 - accuracy: 0.7253 - val_loss: 0.5290 - val_accuracy: 0.7430\n",
            "Epoch 16/120\n",
            "10000/10000 [==============================] - 9s 916us/step - loss: 0.5289 - accuracy: 0.7387 - val_loss: 0.5050 - val_accuracy: 0.7460\n",
            "Epoch 17/120\n",
            "10000/10000 [==============================] - 9s 901us/step - loss: 0.5032 - accuracy: 0.7514 - val_loss: 0.5158 - val_accuracy: 0.7500\n",
            "Epoch 18/120\n",
            "10000/10000 [==============================] - 9s 914us/step - loss: 0.4868 - accuracy: 0.7678 - val_loss: 0.4706 - val_accuracy: 0.7620\n",
            "Epoch 19/120\n",
            "10000/10000 [==============================] - 9s 922us/step - loss: 0.4708 - accuracy: 0.7755 - val_loss: 0.4528 - val_accuracy: 0.7830\n",
            "Epoch 20/120\n",
            "10000/10000 [==============================] - 9s 910us/step - loss: 0.4539 - accuracy: 0.7887 - val_loss: 0.4447 - val_accuracy: 0.7930\n",
            "Epoch 21/120\n",
            "10000/10000 [==============================] - 9s 908us/step - loss: 0.4380 - accuracy: 0.8006 - val_loss: 0.4311 - val_accuracy: 0.8060\n",
            "Epoch 22/120\n",
            "10000/10000 [==============================] - 9s 928us/step - loss: 0.4300 - accuracy: 0.8034 - val_loss: 0.4251 - val_accuracy: 0.7920\n",
            "Epoch 23/120\n",
            "10000/10000 [==============================] - 9s 938us/step - loss: 0.4252 - accuracy: 0.7998 - val_loss: 0.4115 - val_accuracy: 0.8070\n",
            "Epoch 24/120\n",
            "10000/10000 [==============================] - 9s 917us/step - loss: 0.4214 - accuracy: 0.8056 - val_loss: 0.4077 - val_accuracy: 0.8000\n",
            "Epoch 25/120\n",
            "10000/10000 [==============================] - 9s 919us/step - loss: 0.4171 - accuracy: 0.8075 - val_loss: 0.4035 - val_accuracy: 0.8080\n",
            "Epoch 26/120\n",
            "10000/10000 [==============================] - 9s 912us/step - loss: 0.4099 - accuracy: 0.8075 - val_loss: 0.4030 - val_accuracy: 0.8070\n",
            "Epoch 27/120\n",
            "10000/10000 [==============================] - 9s 913us/step - loss: 0.4078 - accuracy: 0.8131 - val_loss: 0.4197 - val_accuracy: 0.7900\n",
            "Epoch 28/120\n",
            "10000/10000 [==============================] - 9s 921us/step - loss: 0.4074 - accuracy: 0.8097 - val_loss: 0.4009 - val_accuracy: 0.8130\n",
            "Epoch 29/120\n",
            "10000/10000 [==============================] - 9s 916us/step - loss: 0.4017 - accuracy: 0.8162 - val_loss: 0.4161 - val_accuracy: 0.8080\n",
            "Epoch 30/120\n",
            "10000/10000 [==============================] - 9s 915us/step - loss: 0.3953 - accuracy: 0.8176 - val_loss: 0.3984 - val_accuracy: 0.8110\n",
            "Epoch 31/120\n",
            "10000/10000 [==============================] - 9s 920us/step - loss: 0.3965 - accuracy: 0.8162 - val_loss: 0.4026 - val_accuracy: 0.8140\n",
            "Epoch 32/120\n",
            "10000/10000 [==============================] - 9s 920us/step - loss: 0.3896 - accuracy: 0.8213 - val_loss: 0.4172 - val_accuracy: 0.8050\n",
            "Epoch 33/120\n",
            "10000/10000 [==============================] - 9s 911us/step - loss: 0.3933 - accuracy: 0.8239 - val_loss: 0.4079 - val_accuracy: 0.8070\n",
            "Epoch 34/120\n",
            "10000/10000 [==============================] - 9s 907us/step - loss: 0.3833 - accuracy: 0.8254 - val_loss: 0.3907 - val_accuracy: 0.8110\n",
            "Epoch 35/120\n",
            "10000/10000 [==============================] - 9s 907us/step - loss: 0.3785 - accuracy: 0.8277 - val_loss: 0.3879 - val_accuracy: 0.8230\n",
            "Epoch 36/120\n",
            "10000/10000 [==============================] - 9s 918us/step - loss: 0.3747 - accuracy: 0.8347 - val_loss: 0.3795 - val_accuracy: 0.8200\n",
            "Epoch 37/120\n",
            "10000/10000 [==============================] - 9s 912us/step - loss: 0.3716 - accuracy: 0.8307 - val_loss: 0.4001 - val_accuracy: 0.8070\n",
            "Epoch 38/120\n",
            "10000/10000 [==============================] - 9s 915us/step - loss: 0.3715 - accuracy: 0.8351 - val_loss: 0.3860 - val_accuracy: 0.8210\n",
            "Epoch 39/120\n",
            "10000/10000 [==============================] - 9s 909us/step - loss: 0.3641 - accuracy: 0.8380 - val_loss: 0.4033 - val_accuracy: 0.8220\n",
            "Epoch 40/120\n",
            "10000/10000 [==============================] - 9s 896us/step - loss: 0.3564 - accuracy: 0.8453 - val_loss: 0.3970 - val_accuracy: 0.8290\n",
            "Epoch 41/120\n",
            "10000/10000 [==============================] - 9s 920us/step - loss: 0.3586 - accuracy: 0.8438 - val_loss: 0.3656 - val_accuracy: 0.8320\n",
            "Epoch 42/120\n",
            "10000/10000 [==============================] - 9s 906us/step - loss: 0.3533 - accuracy: 0.8443 - val_loss: 0.4256 - val_accuracy: 0.8140\n",
            "Epoch 43/120\n",
            "10000/10000 [==============================] - 9s 907us/step - loss: 0.3548 - accuracy: 0.8439 - val_loss: 0.3694 - val_accuracy: 0.8250\n",
            "Epoch 44/120\n",
            "10000/10000 [==============================] - 9s 929us/step - loss: 0.3438 - accuracy: 0.8456 - val_loss: 0.3705 - val_accuracy: 0.8330\n",
            "Epoch 45/120\n",
            "10000/10000 [==============================] - 9s 916us/step - loss: 0.3423 - accuracy: 0.8520 - val_loss: 0.3755 - val_accuracy: 0.8280\n",
            "Epoch 46/120\n",
            "10000/10000 [==============================] - 9s 905us/step - loss: 0.3421 - accuracy: 0.8529 - val_loss: 0.3707 - val_accuracy: 0.8310\n",
            "Epoch 47/120\n",
            "10000/10000 [==============================] - 9s 908us/step - loss: 0.3413 - accuracy: 0.8528 - val_loss: 0.3876 - val_accuracy: 0.8270\n",
            "Epoch 48/120\n",
            "10000/10000 [==============================] - 9s 916us/step - loss: 0.3388 - accuracy: 0.8535 - val_loss: 0.3713 - val_accuracy: 0.8310\n",
            "Epoch 49/120\n",
            "10000/10000 [==============================] - 9s 911us/step - loss: 0.3342 - accuracy: 0.8545 - val_loss: 0.3721 - val_accuracy: 0.8310\n",
            "Epoch 50/120\n",
            "10000/10000 [==============================] - 9s 922us/step - loss: 0.3400 - accuracy: 0.8537 - val_loss: 0.3672 - val_accuracy: 0.8270\n",
            "Epoch 51/120\n",
            "10000/10000 [==============================] - 9s 911us/step - loss: 0.3299 - accuracy: 0.8596 - val_loss: 0.3703 - val_accuracy: 0.8330\n",
            "Epoch 52/120\n",
            "10000/10000 [==============================] - 9s 898us/step - loss: 0.3333 - accuracy: 0.8543 - val_loss: 0.3719 - val_accuracy: 0.8230\n",
            "Epoch 53/120\n",
            "10000/10000 [==============================] - 9s 914us/step - loss: 0.3222 - accuracy: 0.8602 - val_loss: 0.3915 - val_accuracy: 0.8310\n",
            "Epoch 54/120\n",
            "10000/10000 [==============================] - 9s 911us/step - loss: 0.3243 - accuracy: 0.8573 - val_loss: 0.3854 - val_accuracy: 0.8320\n",
            "Epoch 55/120\n",
            "10000/10000 [==============================] - 9s 896us/step - loss: 0.3230 - accuracy: 0.8619 - val_loss: 0.3747 - val_accuracy: 0.8270\n",
            "Epoch 56/120\n",
            "10000/10000 [==============================] - 9s 906us/step - loss: 0.3187 - accuracy: 0.8612 - val_loss: 0.3676 - val_accuracy: 0.8320\n",
            "Epoch 57/120\n",
            "10000/10000 [==============================] - 10s 962us/step - loss: 0.3156 - accuracy: 0.8629 - val_loss: 0.3853 - val_accuracy: 0.8300\n",
            "Epoch 58/120\n",
            "10000/10000 [==============================] - 9s 919us/step - loss: 0.3176 - accuracy: 0.8611 - val_loss: 0.3918 - val_accuracy: 0.8280\n",
            "Epoch 59/120\n",
            "10000/10000 [==============================] - 9s 906us/step - loss: 0.3138 - accuracy: 0.8680 - val_loss: 0.3692 - val_accuracy: 0.8300\n",
            "Epoch 60/120\n",
            "10000/10000 [==============================] - 9s 900us/step - loss: 0.3136 - accuracy: 0.8669 - val_loss: 0.3785 - val_accuracy: 0.8340\n",
            "Epoch 61/120\n",
            "10000/10000 [==============================] - 9s 901us/step - loss: 0.3195 - accuracy: 0.8660 - val_loss: 0.3834 - val_accuracy: 0.8320\n",
            "Epoch 62/120\n",
            "10000/10000 [==============================] - 9s 910us/step - loss: 0.3131 - accuracy: 0.8649 - val_loss: 0.3882 - val_accuracy: 0.8380\n",
            "Epoch 63/120\n",
            "10000/10000 [==============================] - 9s 890us/step - loss: 0.3088 - accuracy: 0.8669 - val_loss: 0.3767 - val_accuracy: 0.8290\n",
            "Epoch 64/120\n",
            "10000/10000 [==============================] - 9s 900us/step - loss: 0.3064 - accuracy: 0.8692 - val_loss: 0.3811 - val_accuracy: 0.8290\n",
            "Epoch 65/120\n",
            "10000/10000 [==============================] - 9s 932us/step - loss: 0.3065 - accuracy: 0.8689 - val_loss: 0.4033 - val_accuracy: 0.8230\n",
            "Epoch 66/120\n",
            "10000/10000 [==============================] - 9s 913us/step - loss: 0.3090 - accuracy: 0.8703 - val_loss: 0.3881 - val_accuracy: 0.8320\n",
            "Epoch 67/120\n",
            "10000/10000 [==============================] - 9s 904us/step - loss: 0.3068 - accuracy: 0.8699 - val_loss: 0.3921 - val_accuracy: 0.8410\n",
            "Epoch 68/120\n",
            "10000/10000 [==============================] - 9s 888us/step - loss: 0.3066 - accuracy: 0.8681 - val_loss: 0.3928 - val_accuracy: 0.8300\n",
            "Epoch 69/120\n",
            "10000/10000 [==============================] - 9s 910us/step - loss: 0.3047 - accuracy: 0.8689 - val_loss: 0.3937 - val_accuracy: 0.8210\n",
            "Epoch 70/120\n",
            "10000/10000 [==============================] - 9s 910us/step - loss: 0.2967 - accuracy: 0.8726 - val_loss: 0.3775 - val_accuracy: 0.8250\n",
            "Epoch 71/120\n",
            "10000/10000 [==============================] - 9s 909us/step - loss: 0.2995 - accuracy: 0.8702 - val_loss: 0.3800 - val_accuracy: 0.8360\n",
            "Epoch 72/120\n",
            "10000/10000 [==============================] - 9s 904us/step - loss: 0.3032 - accuracy: 0.8716 - val_loss: 0.3804 - val_accuracy: 0.8390\n",
            "Epoch 73/120\n",
            "10000/10000 [==============================] - 9s 901us/step - loss: 0.2942 - accuracy: 0.8741 - val_loss: 0.4048 - val_accuracy: 0.8330\n",
            "Epoch 74/120\n",
            "10000/10000 [==============================] - 9s 911us/step - loss: 0.2964 - accuracy: 0.8740 - val_loss: 0.3929 - val_accuracy: 0.8270\n",
            "Epoch 75/120\n",
            "10000/10000 [==============================] - 9s 908us/step - loss: 0.2963 - accuracy: 0.8761 - val_loss: 0.4113 - val_accuracy: 0.8270\n",
            "Epoch 76/120\n",
            "10000/10000 [==============================] - 9s 888us/step - loss: 0.2926 - accuracy: 0.8776 - val_loss: 0.4092 - val_accuracy: 0.8230\n",
            "Epoch 77/120\n",
            "10000/10000 [==============================] - 9s 915us/step - loss: 0.2901 - accuracy: 0.8721 - val_loss: 0.3881 - val_accuracy: 0.8260\n",
            "Epoch 78/120\n",
            "10000/10000 [==============================] - 9s 897us/step - loss: 0.2906 - accuracy: 0.8760 - val_loss: 0.4022 - val_accuracy: 0.8320\n",
            "Epoch 79/120\n",
            "10000/10000 [==============================] - 9s 900us/step - loss: 0.2941 - accuracy: 0.8723 - val_loss: 0.3856 - val_accuracy: 0.8340\n",
            "Epoch 80/120\n",
            "10000/10000 [==============================] - 9s 905us/step - loss: 0.2880 - accuracy: 0.8768 - val_loss: 0.3797 - val_accuracy: 0.8340\n",
            "Epoch 81/120\n",
            "10000/10000 [==============================] - 9s 913us/step - loss: 0.2830 - accuracy: 0.8755 - val_loss: 0.4034 - val_accuracy: 0.8300\n",
            "Epoch 82/120\n",
            "10000/10000 [==============================] - 9s 906us/step - loss: 0.2864 - accuracy: 0.8766 - val_loss: 0.3994 - val_accuracy: 0.8270\n",
            "Epoch 83/120\n",
            "10000/10000 [==============================] - 9s 912us/step - loss: 0.2825 - accuracy: 0.8783 - val_loss: 0.4012 - val_accuracy: 0.8280\n",
            "Epoch 84/120\n",
            "10000/10000 [==============================] - 9s 899us/step - loss: 0.2834 - accuracy: 0.8789 - val_loss: 0.3911 - val_accuracy: 0.8390\n",
            "Epoch 85/120\n",
            "10000/10000 [==============================] - 9s 917us/step - loss: 0.2871 - accuracy: 0.8774 - val_loss: 0.4099 - val_accuracy: 0.8260\n",
            "Epoch 86/120\n",
            "10000/10000 [==============================] - 9s 907us/step - loss: 0.2787 - accuracy: 0.8822 - val_loss: 0.4006 - val_accuracy: 0.8340\n",
            "Epoch 87/120\n",
            "10000/10000 [==============================] - 9s 905us/step - loss: 0.2800 - accuracy: 0.8774 - val_loss: 0.4140 - val_accuracy: 0.8250\n",
            "Epoch 88/120\n",
            "10000/10000 [==============================] - 9s 910us/step - loss: 0.2783 - accuracy: 0.8816 - val_loss: 0.3921 - val_accuracy: 0.8320\n",
            "Epoch 89/120\n",
            "10000/10000 [==============================] - 9s 916us/step - loss: 0.2875 - accuracy: 0.8783 - val_loss: 0.3936 - val_accuracy: 0.8250\n",
            "Epoch 90/120\n",
            "10000/10000 [==============================] - 9s 901us/step - loss: 0.2808 - accuracy: 0.8805 - val_loss: 0.3949 - val_accuracy: 0.8330\n",
            "Epoch 91/120\n",
            "10000/10000 [==============================] - 9s 933us/step - loss: 0.2700 - accuracy: 0.8821 - val_loss: 0.4124 - val_accuracy: 0.8300\n",
            "Epoch 92/120\n",
            "10000/10000 [==============================] - 9s 906us/step - loss: 0.2786 - accuracy: 0.8824 - val_loss: 0.4009 - val_accuracy: 0.8320\n",
            "Epoch 93/120\n",
            "10000/10000 [==============================] - 9s 909us/step - loss: 0.2703 - accuracy: 0.8850 - val_loss: 0.4487 - val_accuracy: 0.8250\n",
            "Epoch 94/120\n",
            "10000/10000 [==============================] - 9s 904us/step - loss: 0.2759 - accuracy: 0.8802 - val_loss: 0.4118 - val_accuracy: 0.8290\n",
            "Epoch 95/120\n",
            "10000/10000 [==============================] - 9s 916us/step - loss: 0.2722 - accuracy: 0.8859 - val_loss: 0.4223 - val_accuracy: 0.8370\n",
            "Epoch 96/120\n",
            "10000/10000 [==============================] - 9s 902us/step - loss: 0.2697 - accuracy: 0.8854 - val_loss: 0.4090 - val_accuracy: 0.8200\n",
            "Epoch 97/120\n",
            "10000/10000 [==============================] - 9s 902us/step - loss: 0.2697 - accuracy: 0.8831 - val_loss: 0.4280 - val_accuracy: 0.8360\n",
            "Epoch 98/120\n",
            "10000/10000 [==============================] - 9s 919us/step - loss: 0.2689 - accuracy: 0.8866 - val_loss: 0.4292 - val_accuracy: 0.8260\n",
            "Epoch 99/120\n",
            "10000/10000 [==============================] - 9s 921us/step - loss: 0.2668 - accuracy: 0.8857 - val_loss: 0.4059 - val_accuracy: 0.8310\n",
            "Epoch 100/120\n",
            "10000/10000 [==============================] - 9s 913us/step - loss: 0.2661 - accuracy: 0.8864 - val_loss: 0.4224 - val_accuracy: 0.8280\n",
            "Epoch 101/120\n",
            "10000/10000 [==============================] - 9s 915us/step - loss: 0.2652 - accuracy: 0.8837 - val_loss: 0.4089 - val_accuracy: 0.8280\n",
            "Epoch 102/120\n",
            "10000/10000 [==============================] - 9s 903us/step - loss: 0.2686 - accuracy: 0.8849 - val_loss: 0.4225 - val_accuracy: 0.8270\n",
            "Epoch 103/120\n",
            "10000/10000 [==============================] - 9s 913us/step - loss: 0.2711 - accuracy: 0.8854 - val_loss: 0.4270 - val_accuracy: 0.8270\n",
            "Epoch 104/120\n",
            "10000/10000 [==============================] - 9s 925us/step - loss: 0.2642 - accuracy: 0.8912 - val_loss: 0.4491 - val_accuracy: 0.8160\n",
            "Epoch 105/120\n",
            "10000/10000 [==============================] - 9s 918us/step - loss: 0.2650 - accuracy: 0.8872 - val_loss: 0.4488 - val_accuracy: 0.8260\n",
            "Epoch 106/120\n",
            "10000/10000 [==============================] - 9s 907us/step - loss: 0.2574 - accuracy: 0.8916 - val_loss: 0.4264 - val_accuracy: 0.8280\n",
            "Epoch 107/120\n",
            "10000/10000 [==============================] - 9s 903us/step - loss: 0.2587 - accuracy: 0.8883 - val_loss: 0.4414 - val_accuracy: 0.8270\n",
            "Epoch 108/120\n",
            "10000/10000 [==============================] - 9s 911us/step - loss: 0.2575 - accuracy: 0.8889 - val_loss: 0.4420 - val_accuracy: 0.8290\n",
            "Epoch 109/120\n",
            "10000/10000 [==============================] - 9s 906us/step - loss: 0.2637 - accuracy: 0.8870 - val_loss: 0.4318 - val_accuracy: 0.8290\n",
            "Epoch 110/120\n",
            "10000/10000 [==============================] - 9s 904us/step - loss: 0.2593 - accuracy: 0.8923 - val_loss: 0.4484 - val_accuracy: 0.8240\n",
            "Epoch 111/120\n",
            "10000/10000 [==============================] - 9s 903us/step - loss: 0.2587 - accuracy: 0.8887 - val_loss: 0.4126 - val_accuracy: 0.8240\n",
            "Epoch 112/120\n",
            "10000/10000 [==============================] - 9s 905us/step - loss: 0.2589 - accuracy: 0.8932 - val_loss: 0.4248 - val_accuracy: 0.8320\n",
            "Epoch 113/120\n",
            "10000/10000 [==============================] - 9s 907us/step - loss: 0.2621 - accuracy: 0.8902 - val_loss: 0.4204 - val_accuracy: 0.8290\n",
            "Epoch 114/120\n",
            "10000/10000 [==============================] - 9s 906us/step - loss: 0.2594 - accuracy: 0.8885 - val_loss: 0.4076 - val_accuracy: 0.8250\n",
            "Epoch 115/120\n",
            "10000/10000 [==============================] - 9s 899us/step - loss: 0.2496 - accuracy: 0.8971 - val_loss: 0.4384 - val_accuracy: 0.8250\n",
            "Epoch 116/120\n",
            "10000/10000 [==============================] - 9s 901us/step - loss: 0.2632 - accuracy: 0.8920 - val_loss: 0.4140 - val_accuracy: 0.8260\n",
            "Epoch 117/120\n",
            "10000/10000 [==============================] - 9s 914us/step - loss: 0.2484 - accuracy: 0.8937 - val_loss: 0.4371 - val_accuracy: 0.8300\n",
            "Epoch 118/120\n",
            "10000/10000 [==============================] - 9s 910us/step - loss: 0.2548 - accuracy: 0.8890 - val_loss: 0.4255 - val_accuracy: 0.8280\n",
            "Epoch 119/120\n",
            "10000/10000 [==============================] - 9s 915us/step - loss: 0.2544 - accuracy: 0.8951 - val_loss: 0.4226 - val_accuracy: 0.8250\n",
            "Epoch 120/120\n",
            "10000/10000 [==============================] - 9s 908us/step - loss: 0.2443 - accuracy: 0.8983 - val_loss: 0.4321 - val_accuracy: 0.8330\n"
          ],
          "name": "stdout"
        }
      ]
    },
    {
      "cell_type": "code",
      "metadata": {
        "id": "cfU6pgGyD8qW",
        "colab_type": "code",
        "colab": {
          "base_uri": "https://localhost:8080/",
          "height": 312
        },
        "outputId": "d9f36894-161e-40dd-8e72-ce218ea69364"
      },
      "source": [
        "import matplotlib.pyplot as plt\n",
        "\n",
        "print(history.history.keys())\n",
        "plt.plot(history.history['accuracy'])\n",
        "plt.plot(history.history['val_accuracy'])\n",
        "plt.title('model accuracy')\n",
        "plt.ylabel('accuracy')\n",
        "plt.xlabel('epoch')\n",
        "plt.legend(['train', 'test'], loc='upper left')\n",
        "plt.show()"
      ],
      "execution_count": 45,
      "outputs": [
        {
          "output_type": "stream",
          "text": [
            "dict_keys(['val_loss', 'val_accuracy', 'loss', 'accuracy'])\n"
          ],
          "name": "stdout"
        },
        {
          "output_type": "display_data",
          "data": {
            "image/png": "[encoded data removed]",
            "text/plain": [
              "<Figure size 432x288 with 1 Axes>"
            ]
          },
          "metadata": {
            "tags": [],
            "needs_background": "light"
          }
        }
      ]
    },
    {
      "cell_type": "code",
      "metadata": {
        "id": "4oTTmkLOIXEt",
        "colab_type": "code",
        "colab": {}
      },
      "source": [
        "model.save('chatbot.h5')"
      ],
      "execution_count": 46,
      "outputs": []
    },
    {
      "cell_type": "code",
      "metadata": {
        "id": "b4tDIUMgI-Fd",
        "colab_type": "code",
        "colab": {}
      },
      "source": [
        "model.load_weights('/content/chatbot.h5')\n",
        "pred_results = model.predict(([inputs_test, question_test]))"
      ],
      "execution_count": 47,
      "outputs": []
    },
    {
      "cell_type": "code",
      "metadata": {
        "id": "38lNrjczJuuH",
        "colab_type": "code",
        "colab": {
          "base_uri": "https://localhost:8080/",
          "height": 225
        },
        "outputId": "7829784c-f24c-4a6b-bd7c-f4a0151ac6b4"
      },
      "source": [
        "test_data[0][0]"
      ],
      "execution_count": 51,
      "outputs": [
        {
          "output_type": "execute_result",
          "data": {
            "text/plain": [
              "['Mary',\n",
              " 'got',\n",
              " 'the',\n",
              " 'milk',\n",
              " 'there',\n",
              " '.',\n",
              " 'John',\n",
              " 'moved',\n",
              " 'to',\n",
              " 'the',\n",
              " 'bedroom',\n",
              " '.']"
            ]
          },
          "metadata": {
            "tags": []
          },
          "execution_count": 51
        }
      ]
    },
    {
      "cell_type": "code",
      "metadata": {
        "id": "8w6H2WA_Juzl",
        "colab_type": "code",
        "colab": {
          "base_uri": "https://localhost:8080/",
          "height": 34
        },
        "outputId": "54d8edc0-95af-48d6-e005-ca3c871c315f"
      },
      "source": [
        "test_data[0][1]"
      ],
      "execution_count": 52,
      "outputs": [
        {
          "output_type": "execute_result",
          "data": {
            "text/plain": [
              "['Is', 'John', 'in', 'the', 'kitchen', '?']"
            ]
          },
          "metadata": {
            "tags": []
          },
          "execution_count": 52
        }
      ]
    },
    {
      "cell_type": "code",
      "metadata": {
        "id": "x2c8_N_1Ju5K",
        "colab_type": "code",
        "colab": {
          "base_uri": "https://localhost:8080/",
          "height": 34
        },
        "outputId": "72d6e4cc-ddd6-4926-a826-c5b4f7c56018"
      },
      "source": [
        "test_data[0][2]"
      ],
      "execution_count": 53,
      "outputs": [
        {
          "output_type": "execute_result",
          "data": {
            "text/plain": [
              "'no'"
            ]
          },
          "metadata": {
            "tags": []
          },
          "execution_count": 53
        }
      ]
    },
    {
      "cell_type": "code",
      "metadata": {
        "id": "Zkb1Rw8jJM6Q",
        "colab_type": "code",
        "colab": {
          "base_uri": "https://localhost:8080/",
          "height": 34
        },
        "outputId": "070b3e57-9fab-41c5-aa88-e5a444434867"
      },
      "source": [
        "pred_results.shape"
      ],
      "execution_count": 48,
      "outputs": [
        {
          "output_type": "execute_result",
          "data": {
            "text/plain": [
              "(1000, 38)"
            ]
          },
          "metadata": {
            "tags": []
          },
          "execution_count": 48
        }
      ]
    },
    {
      "cell_type": "code",
      "metadata": {
        "id": "DYyGslFrJaq9",
        "colab_type": "code",
        "colab": {}
      },
      "source": [
        "val_max = np.argmax(pred_results[0])"
      ],
      "execution_count": 54,
      "outputs": []
    },
    {
      "cell_type": "code",
      "metadata": {
        "id": "cicIEkUZJ8_s",
        "colab_type": "code",
        "colab": {}
      },
      "source": [
        "for key, val in tokenizer.word_index.items():\n",
        "    if val == val_max:\n",
        "        k = key"
      ],
      "execution_count": 56,
      "outputs": []
    },
    {
      "cell_type": "code",
      "metadata": {
        "id": "MM3OG3PSKJs0",
        "colab_type": "code",
        "colab": {
          "base_uri": "https://localhost:8080/",
          "height": 34
        },
        "outputId": "207a8d66-2aa5-46b6-b51b-6204d876e62a"
      },
      "source": [
        "k"
      ],
      "execution_count": 57,
      "outputs": [
        {
          "output_type": "execute_result",
          "data": {
            "text/plain": [
              "'no'"
            ]
          },
          "metadata": {
            "tags": []
          },
          "execution_count": 57
        }
      ]
    },
    {
      "cell_type": "code",
      "metadata": {
        "id": "rrJ8e0vjKMlN",
        "colab_type": "code",
        "colab": {
          "base_uri": "https://localhost:8080/",
          "height": 34
        },
        "outputId": "347b6fa3-9483-4321-a993-149bb2a2a00b"
      },
      "source": [
        "pred_results[0][val_max]"
      ],
      "execution_count": 58,
      "outputs": [
        {
          "output_type": "execute_result",
          "data": {
            "text/plain": [
              "0.9999994"
            ]
          },
          "metadata": {
            "tags": []
          },
          "execution_count": 58
        }
      ]
    },
    {
      "cell_type": "code",
      "metadata": {
        "id": "5pL8WDQ2KP-l",
        "colab_type": "code",
        "colab": {}
      },
      "source": [
        "story = \"John left the kitchen . Sandra dropped the football in the garden .\""
      ],
      "execution_count": 64,
      "outputs": []
    },
    {
      "cell_type": "code",
      "metadata": {
        "id": "2XzV8VlAKpDB",
        "colab_type": "code",
        "colab": {
          "base_uri": "https://localhost:8080/",
          "height": 243
        },
        "outputId": "70c5702e-8412-4337-a304-e88f0f1a251e"
      },
      "source": [
        "story.split()"
      ],
      "execution_count": 65,
      "outputs": [
        {
          "output_type": "execute_result",
          "data": {
            "text/plain": [
              "['John',\n",
              " 'left',\n",
              " 'the',\n",
              " 'kitchen',\n",
              " '.',\n",
              " 'Sandra',\n",
              " 'dropped',\n",
              " 'the',\n",
              " 'football',\n",
              " 'in',\n",
              " 'the',\n",
              " 'garden',\n",
              " '.']"
            ]
          },
          "metadata": {
            "tags": []
          },
          "execution_count": 65
        }
      ]
    },
    {
      "cell_type": "code",
      "metadata": {
        "id": "72t5kAGCKvGQ",
        "colab_type": "code",
        "colab": {
          "base_uri": "https://localhost:8080/",
          "height": 34
        },
        "outputId": "511b6005-850c-416a-cf3d-9e1b701c14e8"
      },
      "source": [
        "question = \"Is the football in the garden ?\"\n",
        "question.split()"
      ],
      "execution_count": 66,
      "outputs": [
        {
          "output_type": "execute_result",
          "data": {
            "text/plain": [
              "['Is', 'the', 'football', 'in', 'the', 'garden', '?']"
            ]
          },
          "metadata": {
            "tags": []
          },
          "execution_count": 66
        }
      ]
    },
    {
      "cell_type": "code",
      "metadata": {
        "id": "JtKg3FmuK3_Y",
        "colab_type": "code",
        "colab": {}
      },
      "source": [
        "data = [(story.split(), question.split(), 'yes')]"
      ],
      "execution_count": 67,
      "outputs": []
    },
    {
      "cell_type": "code",
      "metadata": {
        "id": "F_IZobtMLJyT",
        "colab_type": "code",
        "colab": {}
      },
      "source": [
        "story, question, answer = vectorize_stories(data)"
      ],
      "execution_count": 68,
      "outputs": []
    },
    {
      "cell_type": "code",
      "metadata": {
        "id": "1jEM-dksLSMW",
        "colab_type": "code",
        "colab": {}
      },
      "source": [
        "pred_results = model.predict(([story, question]))"
      ],
      "execution_count": 69,
      "outputs": []
    },
    {
      "cell_type": "code",
      "metadata": {
        "id": "AwGvMJuvLeeq",
        "colab_type": "code",
        "colab": {}
      },
      "source": [
        "val_max = np.argmax(pred_results[0])"
      ],
      "execution_count": 70,
      "outputs": []
    },
    {
      "cell_type": "code",
      "metadata": {
        "id": "G2COqa4fLkas",
        "colab_type": "code",
        "colab": {}
      },
      "source": [
        "for key, val in tokenizer.word_index.items():\n",
        "    if val == val_max:\n",
        "        k = key"
      ],
      "execution_count": 71,
      "outputs": []
    },
    {
      "cell_type": "code",
      "metadata": {
        "id": "uM7Qv7C3Ln_1",
        "colab_type": "code",
        "colab": {
          "base_uri": "https://localhost:8080/",
          "height": 34
        },
        "outputId": "09ee1554-6e43-4c04-cd41-ea2126aa7ef6"
      },
      "source": [
        "k"
      ],
      "execution_count": 72,
      "outputs": [
        {
          "output_type": "execute_result",
          "data": {
            "text/plain": [
              "'yes'"
            ]
          },
          "metadata": {
            "tags": []
          },
          "execution_count": 72
        }
      ]
    },
    {
      "cell_type": "code",
      "metadata": {
        "id": "bPAPRm7YLom-",
        "colab_type": "code",
        "colab": {
          "base_uri": "https://localhost:8080/",
          "height": 34
        },
        "outputId": "dbd185eb-5bdb-46f6-8b5d-582b376788f4"
      },
      "source": [
        "pred_results[0][val_max]"
      ],
      "execution_count": 74,
      "outputs": [
        {
          "output_type": "execute_result",
          "data": {
            "text/plain": [
              "0.98544693"
            ]
          },
          "metadata": {
            "tags": []
          },
          "execution_count": 74
        }
      ]
    },
    {
      "cell_type": "code",
      "metadata": {
        "id": "rFQ2n_zZLxWb",
        "colab_type": "code",
        "colab": {}
      },
      "source": [
        ""
      ],
      "execution_count": null,
      "outputs": []
    }
  ]
}
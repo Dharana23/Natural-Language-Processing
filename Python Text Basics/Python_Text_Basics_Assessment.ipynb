{
  "nbformat": 4,
  "nbformat_minor": 0,
  "metadata": {
    "colab": {
      "name": "Pyhton-Text-Basics-Assessment.ipynb",
      "provenance": [],
      "collapsed_sections": []
    },
    "kernelspec": {
      "name": "python3",
      "display_name": "Python 3"
    }
  },
  "cells": [
    {
      "cell_type": "code",
      "metadata": {
        "id": "RrTgV7JRMtFc",
        "colab_type": "code",
        "colab": {
          "base_uri": "https://localhost:8080/",
          "height": 34
        },
        "outputId": "fea820d7-752d-4c72-d694-8a953c457bbc"
      },
      "source": [
        "abbr = 'NLP'\n",
        "full_text = 'Natural Language processing'\n",
        "\n",
        "print(f\"{abbr} stands for {full_text}\")"
      ],
      "execution_count": 4,
      "outputs": [
        {
          "output_type": "stream",
          "text": [
            "NLP stands for Natural Language processing\n"
          ],
          "name": "stdout"
        }
      ]
    },
    {
      "cell_type": "code",
      "metadata": {
        "id": "S01I-SHGOZLa",
        "colab_type": "code",
        "colab": {
          "base_uri": "https://localhost:8080/",
          "height": 34
        },
        "outputId": "58679777-09a8-4790-9013-5891e6fdaca5"
      },
      "source": [
        "%%writefile contacts.txt\n",
        "First_Name Last_Name, Title, Extension, Email"
      ],
      "execution_count": 11,
      "outputs": [
        {
          "output_type": "stream",
          "text": [
            "Overwriting contacts.txt\n"
          ],
          "name": "stdout"
        }
      ]
    },
    {
      "cell_type": "code",
      "metadata": {
        "id": "ZTmJ3dTfOwPW",
        "colab_type": "code",
        "colab": {
          "base_uri": "https://localhost:8080/",
          "height": 34
        },
        "outputId": "ad461998-1f84-4e59-b0c0-6374b70323cb"
      },
      "source": [
        "with open('/content/contacts.txt') as f:\n",
        "  fields = f.read()\n",
        "\n",
        "fields"
      ],
      "execution_count": 6,
      "outputs": [
        {
          "output_type": "execute_result",
          "data": {
            "text/plain": [
              "'First_Name Last_Name, Title, Extension, Email'"
            ]
          },
          "metadata": {
            "tags": []
          },
          "execution_count": 6
        }
      ]
    },
    {
      "cell_type": "code",
      "metadata": {
        "id": "doTr9NUCYuCB",
        "colab_type": "code",
        "colab": {
          "base_uri": "https://localhost:8080/",
          "height": 173
        },
        "outputId": "5ca4d7bf-f989-456a-af8f-9493a07075eb"
      },
      "source": [
        "import PyPDF2\n",
        "\n",
        "f = open('/content/Business_Proposal.pdf', 'rb')\n",
        "pdf_reader = PyPDF2.PdfFileReader(f)\n",
        "page_two_text = pdf_reader.getPage(1).extractText()\n",
        "f.close()\n",
        "print(page_two_text)"
      ],
      "execution_count": 9,
      "outputs": [
        {
          "output_type": "stream",
          "text": [
            "AUTHORS:\n",
            " \n",
            "Amy Baker, Finance Chair, x345, abaker@ourcompany.com\n",
            " \n",
            "Chris Donaldson, Accounting Dir., x621, cdonaldson@ourcompany.com\n",
            " \n",
            "Erin Freeman, Sr. VP, x879, efreeman@ourcompany.com\n",
            " \n",
            "\n"
          ],
          "name": "stdout"
        }
      ]
    },
    {
      "cell_type": "code",
      "metadata": {
        "id": "P9x2_Wb4ZQOL",
        "colab_type": "code",
        "colab": {
          "base_uri": "https://localhost:8080/",
          "height": 173
        },
        "outputId": "54e3959b-64f0-4c5c-d792-12d4722d40aa"
      },
      "source": [
        "with open('/content/contacts.txt', 'a+') as f:\n",
        "  f.write(page_two_text)\n",
        "  f.seek(0)\n",
        "  print(f.read())"
      ],
      "execution_count": 10,
      "outputs": [
        {
          "output_type": "stream",
          "text": [
            "First_Name Last_Name, Title, Extension, EmailAUTHORS:\n",
            " \n",
            "Amy Baker, Finance Chair, x345, abaker@ourcompany.com\n",
            " \n",
            "Chris Donaldson, Accounting Dir., x621, cdonaldson@ourcompany.com\n",
            " \n",
            "Erin Freeman, Sr. VP, x879, efreeman@ourcompany.com\n",
            " \n",
            "\n"
          ],
          "name": "stdout"
        }
      ]
    },
    {
      "cell_type": "code",
      "metadata": {
        "id": "xdqNGtrbZprT",
        "colab_type": "code",
        "colab": {
          "base_uri": "https://localhost:8080/",
          "height": 173
        },
        "outputId": "fd67d214-7897-4d06-e1e3-b23ddfd3ce6d"
      },
      "source": [
        "with open('/content/contacts.txt', 'a+') as f:\n",
        "  f.write(page_two_text[8:])\n",
        "  f.seek(0)\n",
        "  print(f.read())"
      ],
      "execution_count": 12,
      "outputs": [
        {
          "output_type": "stream",
          "text": [
            "First_Name Last_Name, Title, Extension, Email\n",
            " \n",
            "Amy Baker, Finance Chair, x345, abaker@ourcompany.com\n",
            " \n",
            "Chris Donaldson, Accounting Dir., x621, cdonaldson@ourcompany.com\n",
            " \n",
            "Erin Freeman, Sr. VP, x879, efreeman@ourcompany.com\n",
            " \n",
            "\n"
          ],
          "name": "stdout"
        }
      ]
    },
    {
      "cell_type": "code",
      "metadata": {
        "id": "BRqob4naaEjw",
        "colab_type": "code",
        "colab": {
          "base_uri": "https://localhost:8080/",
          "height": 69
        },
        "outputId": "b20e4b9d-6916-40e8-a0e6-5f25fe7f5587"
      },
      "source": [
        "import re\n",
        "pattern = r\"[\\w]+@[\\w]+.\\w{3}\"\n",
        "re.findall(pattern, page_two_text)"
      ],
      "execution_count": 13,
      "outputs": [
        {
          "output_type": "execute_result",
          "data": {
            "text/plain": [
              "['abaker@ourcompany.com',\n",
              " 'cdonaldson@ourcompany.com',\n",
              " 'efreeman@ourcompany.com']"
            ]
          },
          "metadata": {
            "tags": []
          },
          "execution_count": 13
        }
      ]
    },
    {
      "cell_type": "code",
      "metadata": {
        "id": "BpOHjwP4anR8",
        "colab_type": "code",
        "colab": {}
      },
      "source": [
        ""
      ],
      "execution_count": 0,
      "outputs": []
    }
  ]
}

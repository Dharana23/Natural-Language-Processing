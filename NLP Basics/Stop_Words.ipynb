{
  "nbformat": 4,
  "nbformat_minor": 0,
  "metadata": {
    "colab": {
      "name": "Stop-Words.ipynb",
      "provenance": [],
      "collapsed_sections": []
    },
    "kernelspec": {
      "name": "python3",
      "display_name": "Python 3"
    },
    "accelerator": "GPU"
  },
  "cells": [
    {
      "cell_type": "code",
      "metadata": {
        "id": "bitlUuPp-p62",
        "colab_type": "code",
        "colab": {}
      },
      "source": [
        "import spacy\n",
        "nlp = spacy.load('en_core_web_sm')"
      ],
      "execution_count": 0,
      "outputs": []
    },
    {
      "cell_type": "code",
      "metadata": {
        "id": "ipiE0ao3_caV",
        "colab_type": "code",
        "colab": {
          "base_uri": "https://localhost:8080/",
          "height": 54
        },
        "outputId": "0ab50f95-4bb8-4916-98b3-bf61d5d59f9c"
      },
      "source": [
        "print(nlp.Defaults.stop_words)"
      ],
      "execution_count": 2,
      "outputs": [
        {
          "output_type": "stream",
          "text": [
            "{'as', 'he', 'those', 'whither', 'mostly', 'latter', 'next', 'third', 'well', 're', 'make', 'against', 'via', 'rather', 'by', 'here', 'always', 'several', 'whom', 'give', 'forty', 'show', 'but', 'thereby', 'at', 'thereupon', 'whether', 'enough', 'wherever', 'nor', 'six', 'indeed', 'under', 'others', 'keep', 'might', \"'m\", 'became', 'whenever', 'anyone', 'any', 'now', 'three', 'even', 'to', 'wherein', 'former', 'hereupon', 'anything', 'because', 'eight', 'have', 'it', 'please', 'while', 'every', 'due', 'cannot', 'everywhere', 'were', 'therefore', 'again', '’ll', 'with', 'behind', 'neither', 'an', 'nowhere', 'doing', 'all', 'say', 'she', 'they', 'quite', '’re', 'amongst', 'from', 'side', 'ten', 'five', 'throughout', 'between', 'in', 'elsewhere', 'itself', 'become', 'for', 'around', 'that', 'off', 'the', 'therein', 'same', 'her', 'his', 'less', 'own', 'almost', 'themselves', 'too', 'front', 'above', 'must', '‘ve', 'latterly', 'which', 'herself', 'will', 'your', '‘s', 'you', 'toward', 'fifty', 'n’t', 'very', 'beside', 'either', 'where', 'yet', 'call', '’d', 'onto', 'somewhere', 'whose', 'me', 'anyhow', 'them', 'be', 'not', 'since', 'somehow', \"'ve\", 'ourselves', 'about', 'no', 'everything', 'formerly', 'another', 'may', 'ca', 'go', 'within', 'once', 'would', 'how', 'out', 'noone', 'only', 'most', 'has', 'whereafter', 'during', 'whereas', 'perhaps', 'us', 'anyway', 'otherwise', 'first', 'over', 'everyone', 'upon', 'him', 'yourselves', 'we', 'whole', \"'ll\", '‘re', 'already', 'being', 'serious', 'what', 'such', 'name', 'its', 'sixty', 'one', \"n't\", 'bottom', 'something', \"'d\", 'else', 'ours', 'also', 'did', 'amount', 'if', 'on', 'although', 'unless', 'whence', 'take', 'per', 'nine', 'still', 'move', 'least', 'some', 'seems', 'two', 'than', '‘ll', 'this', 'among', 'more', 'becoming', 'down', 'nobody', 'however', 'using', 'sometimes', 'alone', 'besides', 'hereby', 'after', 'both', 'moreover', 'do', 'done', 'nothing', 'into', 'mine', 'other', 'and', 'regarding', 'was', 'put', 'across', 'along', 'seemed', 'various', '‘d', 'been', 'yourself', 'through', 'much', 'towards', 'fifteen', 'eleven', 'beforehand', 'full', \"'s\", 'seem', 'beyond', 'my', 'twelve', 'twenty', 'someone', 'afterwards', 'should', 'there', 'nevertheless', 'herein', 'so', 'ever', 'myself', 'these', 'whereupon', 'are', 'back', 'is', 'really', 'then', 'can', 'thus', 'thereafter', 'up', 'whatever', 'himself', 'whereby', 'last', 'yours', 'none', 'together', 'sometime', 'few', 'see', 'part', 'used', 'thru', 'though', 'four', 'further', 'i', 'namely', 'our', 'why', 'meanwhile', 'many', \"'re\", 'am', 'top', 'n‘t', '’ve', 'without', 'their', 'hundred', 'hence', 'thence', '’s', 'made', 'becomes', 'never', 'each', 'get', 'of', 'anywhere', 'hers', 'or', 'except', 'does', 'hereafter', 'could', 'often', 'empty', 'seeming', 'who', 'a', 'before', 'until', 'when', 'whoever', '‘m', 'below', 'just', 'had', '’m'}\n"
          ],
          "name": "stdout"
        }
      ]
    },
    {
      "cell_type": "code",
      "metadata": {
        "id": "idzxaluW_owG",
        "colab_type": "code",
        "colab": {
          "base_uri": "https://localhost:8080/",
          "height": 34
        },
        "outputId": "e3f3f441-5803-4a46-cd57-3787fc0b569a"
      },
      "source": [
        "len(nlp.Defaults.stop_words)"
      ],
      "execution_count": 3,
      "outputs": [
        {
          "output_type": "execute_result",
          "data": {
            "text/plain": [
              "326"
            ]
          },
          "metadata": {
            "tags": []
          },
          "execution_count": 3
        }
      ]
    },
    {
      "cell_type": "code",
      "metadata": {
        "id": "-9xA_GDF_xeD",
        "colab_type": "code",
        "colab": {
          "base_uri": "https://localhost:8080/",
          "height": 34
        },
        "outputId": "2579b215-8736-4529-b782-ee2aa703fb44"
      },
      "source": [
        "nlp.vocab['is'].is_stop"
      ],
      "execution_count": 4,
      "outputs": [
        {
          "output_type": "execute_result",
          "data": {
            "text/plain": [
              "True"
            ]
          },
          "metadata": {
            "tags": []
          },
          "execution_count": 4
        }
      ]
    },
    {
      "cell_type": "code",
      "metadata": {
        "id": "qqyY-ue4_4S0",
        "colab_type": "code",
        "colab": {
          "base_uri": "https://localhost:8080/",
          "height": 34
        },
        "outputId": "d7b21db1-b687-47c1-9e3f-91396e0fc86f"
      },
      "source": [
        "nlp.vocab['mystery'].is_stop"
      ],
      "execution_count": 5,
      "outputs": [
        {
          "output_type": "execute_result",
          "data": {
            "text/plain": [
              "False"
            ]
          },
          "metadata": {
            "tags": []
          },
          "execution_count": 5
        }
      ]
    },
    {
      "cell_type": "code",
      "metadata": {
        "id": "_tOXZvH1_9FY",
        "colab_type": "code",
        "colab": {}
      },
      "source": [
        "nlp.Defaults.stop_words.add('btw')"
      ],
      "execution_count": 0,
      "outputs": []
    },
    {
      "cell_type": "code",
      "metadata": {
        "id": "qfR2ePSbADmS",
        "colab_type": "code",
        "colab": {}
      },
      "source": [
        "nlp.vocab['btw'].is_stop = True"
      ],
      "execution_count": 0,
      "outputs": []
    },
    {
      "cell_type": "code",
      "metadata": {
        "id": "bm0tYGEcAGf2",
        "colab_type": "code",
        "colab": {
          "base_uri": "https://localhost:8080/",
          "height": 34
        },
        "outputId": "ebbf227a-bf7b-49a0-f72b-61dd21bdcff1"
      },
      "source": [
        "len(nlp.Defaults.stop_words)"
      ],
      "execution_count": 9,
      "outputs": [
        {
          "output_type": "execute_result",
          "data": {
            "text/plain": [
              "327"
            ]
          },
          "metadata": {
            "tags": []
          },
          "execution_count": 9
        }
      ]
    },
    {
      "cell_type": "code",
      "metadata": {
        "id": "xICsBiuBAUP5",
        "colab_type": "code",
        "colab": {
          "base_uri": "https://localhost:8080/",
          "height": 34
        },
        "outputId": "3d3ab133-87bd-41c7-e042-5d32d878508e"
      },
      "source": [
        "nlp.vocab['btw'].is_stop"
      ],
      "execution_count": 10,
      "outputs": [
        {
          "output_type": "execute_result",
          "data": {
            "text/plain": [
              "True"
            ]
          },
          "metadata": {
            "tags": []
          },
          "execution_count": 10
        }
      ]
    },
    {
      "cell_type": "code",
      "metadata": {
        "id": "eon8XJbfAZyv",
        "colab_type": "code",
        "colab": {}
      },
      "source": [
        "nlp.Defaults.stop_words.remove('beyond')"
      ],
      "execution_count": 0,
      "outputs": []
    },
    {
      "cell_type": "code",
      "metadata": {
        "id": "dsSStvBOAk5Y",
        "colab_type": "code",
        "colab": {}
      },
      "source": [
        "nlp.vocab['beyond'].is_stop = False"
      ],
      "execution_count": 0,
      "outputs": []
    },
    {
      "cell_type": "code",
      "metadata": {
        "id": "mwLjaBlrArqC",
        "colab_type": "code",
        "colab": {
          "base_uri": "https://localhost:8080/",
          "height": 34
        },
        "outputId": "4a068b9a-0c14-4db2-9ed2-5f3a778ca5d9"
      },
      "source": [
        "len(nlp.Defaults.stop_words)"
      ],
      "execution_count": 14,
      "outputs": [
        {
          "output_type": "execute_result",
          "data": {
            "text/plain": [
              "326"
            ]
          },
          "metadata": {
            "tags": []
          },
          "execution_count": 14
        }
      ]
    },
    {
      "cell_type": "code",
      "metadata": {
        "id": "6ukuaDjYAuZY",
        "colab_type": "code",
        "colab": {
          "base_uri": "https://localhost:8080/",
          "height": 34
        },
        "outputId": "3dd4a03b-fd21-4ac1-b62f-c0ef9b98d2f0"
      },
      "source": [
        "nlp.vocab['beyond'].is_stop"
      ],
      "execution_count": 15,
      "outputs": [
        {
          "output_type": "execute_result",
          "data": {
            "text/plain": [
              "False"
            ]
          },
          "metadata": {
            "tags": []
          },
          "execution_count": 15
        }
      ]
    },
    {
      "cell_type": "code",
      "metadata": {
        "id": "fJI3IdVgAyQZ",
        "colab_type": "code",
        "colab": {}
      },
      "source": [
        ""
      ],
      "execution_count": 0,
      "outputs": []
    }
  ]
}
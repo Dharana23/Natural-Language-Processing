{
  "nbformat": 4,
  "nbformat_minor": 0,
  "metadata": {
    "colab": {
      "name": "NLP-Basic-Assessment.ipynb",
      "provenance": [],
      "collapsed_sections": []
    },
    "kernelspec": {
      "name": "python3",
      "display_name": "Python 3"
    },
    "accelerator": "GPU"
  },
  "cells": [
    {
      "cell_type": "code",
      "metadata": {
        "id": "kz2P595ILO16",
        "colab_type": "code",
        "colab": {}
      },
      "source": [
        "import spacy\n",
        "nlp = spacy.load('en_core_web_sm')"
      ],
      "execution_count": 0,
      "outputs": []
    },
    {
      "cell_type": "code",
      "metadata": {
        "id": "7lQBDYXzMZKV",
        "colab_type": "code",
        "colab": {}
      },
      "source": [
        "f = open('/content/owlcreek.txt', 'r', encoding='utf-8')\n",
        "doc = nlp(f.read())"
      ],
      "execution_count": 0,
      "outputs": []
    },
    {
      "cell_type": "code",
      "metadata": {
        "id": "zC92B-ZANfqA",
        "colab_type": "code",
        "colab": {
          "base_uri": "https://localhost:8080/",
          "height": 156
        },
        "outputId": "51546be2-db9f-4f38-86f3-e68b7d44eafa"
      },
      "source": [
        "doc[:36]"
      ],
      "execution_count": 3,
      "outputs": [
        {
          "output_type": "execute_result",
          "data": {
            "text/plain": [
              "AN OCCURRENCE AT OWL CREEK BRIDGE\n",
              "\n",
              "by Ambrose Bierce\n",
              "\n",
              "I\n",
              "\n",
              "A man stood upon a railroad bridge in northern Alabama, looking down\n",
              "into the swift water twenty feet below.  "
            ]
          },
          "metadata": {
            "tags": []
          },
          "execution_count": 3
        }
      ]
    },
    {
      "cell_type": "code",
      "metadata": {
        "id": "pGpctkLONrn3",
        "colab_type": "code",
        "colab": {
          "base_uri": "https://localhost:8080/",
          "height": 34
        },
        "outputId": "b4a07d46-0b58-4804-e1c9-1b3427f7d6e2"
      },
      "source": [
        "len(doc)"
      ],
      "execution_count": 4,
      "outputs": [
        {
          "output_type": "execute_result",
          "data": {
            "text/plain": [
              "4835"
            ]
          },
          "metadata": {
            "tags": []
          },
          "execution_count": 4
        }
      ]
    },
    {
      "cell_type": "code",
      "metadata": {
        "id": "FYYf_EOlNwcJ",
        "colab_type": "code",
        "colab": {
          "base_uri": "https://localhost:8080/",
          "height": 34
        },
        "outputId": "767e18af-90be-4e94-bc9a-934bd98f95c7"
      },
      "source": [
        "doc_sentences = [sent for sent in doc.sents]\n",
        "len(doc_sentences)"
      ],
      "execution_count": 6,
      "outputs": [
        {
          "output_type": "execute_result",
          "data": {
            "text/plain": [
              "249"
            ]
          },
          "metadata": {
            "tags": []
          },
          "execution_count": 6
        }
      ]
    },
    {
      "cell_type": "code",
      "metadata": {
        "id": "xgVV7jlON5Ij",
        "colab_type": "code",
        "colab": {
          "base_uri": "https://localhost:8080/",
          "height": 52
        },
        "outputId": "c7c59f8a-974c-4abc-b194-e42f2b4a3c1e"
      },
      "source": [
        "print(doc_sentences[2].text)"
      ],
      "execution_count": 8,
      "outputs": [
        {
          "output_type": "stream",
          "text": [
            "A man stood upon a railroad bridge in northern Alabama, looking down\n",
            "into the swift water twenty feet below.  \n"
          ],
          "name": "stdout"
        }
      ]
    },
    {
      "cell_type": "code",
      "metadata": {
        "id": "LsyajcJDOEI2",
        "colab_type": "code",
        "colab": {
          "base_uri": "https://localhost:8080/",
          "height": 451
        },
        "outputId": "f9014c25-3380-47f4-fbb7-7a6291af383a"
      },
      "source": [
        "for token in doc_sentences[2]:\n",
        "  print(f\"{token.text:{15}} {token.pos_:{5}} {token.dep_:{10}} {token.lemma_:{15}}\")"
      ],
      "execution_count": 9,
      "outputs": [
        {
          "output_type": "stream",
          "text": [
            "A               DET   det        a              \n",
            "man             NOUN  nsubj      man            \n",
            "stood           VERB  ROOT       stand          \n",
            "upon            SCONJ prep       upon           \n",
            "a               DET   det        a              \n",
            "railroad        NOUN  compound   railroad       \n",
            "bridge          NOUN  pobj       bridge         \n",
            "in              ADP   prep       in             \n",
            "northern        ADJ   amod       northern       \n",
            "Alabama         PROPN pobj       Alabama        \n",
            ",               PUNCT punct      ,              \n",
            "looking         VERB  advcl      look           \n",
            "down            ADV   prt        down           \n",
            "\n",
            "               SPACE            \n",
            "              \n",
            "into            ADP   prep       into           \n",
            "the             DET   det        the            \n",
            "swift           ADJ   amod       swift          \n",
            "water           NOUN  pobj       water          \n",
            "twenty          NUM   nummod     twenty         \n",
            "feet            NOUN  npadvmod   foot           \n",
            "below           ADV   advmod     below          \n",
            ".               PUNCT punct      .              \n",
            "                SPACE                           \n"
          ],
          "name": "stdout"
        }
      ]
    },
    {
      "cell_type": "code",
      "metadata": {
        "id": "EHVGxKxDOzYC",
        "colab_type": "code",
        "colab": {}
      },
      "source": [
        "from spacy.matcher import Matcher\n",
        "matcher = Matcher(nlp.vocab)"
      ],
      "execution_count": 0,
      "outputs": []
    },
    {
      "cell_type": "code",
      "metadata": {
        "id": "3u9V-5CVO7q7",
        "colab_type": "code",
        "colab": {}
      },
      "source": [
        "pattern = [{'LOWER':'swimming'}, {'IS_SPACE':True, 'OP':'*'}, {'LOWER':'vigorously'}]"
      ],
      "execution_count": 0,
      "outputs": []
    },
    {
      "cell_type": "code",
      "metadata": {
        "id": "P9R7XVaWPPkg",
        "colab_type": "code",
        "colab": {
          "base_uri": "https://localhost:8080/",
          "height": 34
        },
        "outputId": "288f384f-6204-44a0-bba0-a0ed73e658af"
      },
      "source": [
        "matcher.add('Swimming', None, pattern)\n",
        "found_matches = matcher(doc)\n",
        "found_matches"
      ],
      "execution_count": 13,
      "outputs": [
        {
          "output_type": "execute_result",
          "data": {
            "text/plain": [
              "[(12881893835109366681, 1274, 1277), (12881893835109366681, 3609, 3612)]"
            ]
          },
          "metadata": {
            "tags": []
          },
          "execution_count": 13
        }
      ]
    },
    {
      "cell_type": "code",
      "metadata": {
        "id": "yUMnh0tEPYsa",
        "colab_type": "code",
        "colab": {}
      },
      "source": [
        "def surrounding(doc, start, end):\n",
        "  print(doc[start-10:end+10])"
      ],
      "execution_count": 0,
      "outputs": []
    },
    {
      "cell_type": "code",
      "metadata": {
        "id": "dO7cN750Pl3L",
        "colab_type": "code",
        "colab": {
          "base_uri": "https://localhost:8080/",
          "height": 52
        },
        "outputId": "72f38c76-6453-4506-c7ec-0233d3d9052d"
      },
      "source": [
        "surrounding(doc, 1274, 1277)"
      ],
      "execution_count": 21,
      "outputs": [
        {
          "output_type": "stream",
          "text": [
            " By diving I could evade the bullets and, swimming\n",
            "vigorously, reach the bank, take to the woods and\n"
          ],
          "name": "stdout"
        }
      ]
    },
    {
      "cell_type": "code",
      "metadata": {
        "id": "7qpoZ08XPpY6",
        "colab_type": "code",
        "colab": {
          "base_uri": "https://localhost:8080/",
          "height": 52
        },
        "outputId": "e9a738a4-e05d-4d3d-a8c7-7172270f387d"
      },
      "source": [
        "surrounding(doc, 3609, 3612)"
      ],
      "execution_count": 22,
      "outputs": [
        {
          "output_type": "stream",
          "text": [
            "saw all this over his shoulder; he was now swimming\n",
            "vigorously with the current.  His brain was as energetic\n"
          ],
          "name": "stdout"
        }
      ]
    },
    {
      "cell_type": "code",
      "metadata": {
        "id": "nO-CWvpsP9cl",
        "colab_type": "code",
        "colab": {
          "base_uri": "https://localhost:8080/",
          "height": 52
        },
        "outputId": "2afd0b96-d041-424f-dd42-937815966751"
      },
      "source": [
        "for sentence in doc_sentences:\n",
        "  if found_matches[0][1] < sentence.end:\n",
        "    print(sentence)\n",
        "    break"
      ],
      "execution_count": 24,
      "outputs": [
        {
          "output_type": "stream",
          "text": [
            "By diving I could evade the bullets and, swimming\n",
            "vigorously, reach the bank, take to the woods and get away home.  \n"
          ],
          "name": "stdout"
        }
      ]
    },
    {
      "cell_type": "code",
      "metadata": {
        "id": "ee25W81_QV_8",
        "colab_type": "code",
        "colab": {}
      },
      "source": [
        ""
      ],
      "execution_count": 0,
      "outputs": []
    }
  ]
}
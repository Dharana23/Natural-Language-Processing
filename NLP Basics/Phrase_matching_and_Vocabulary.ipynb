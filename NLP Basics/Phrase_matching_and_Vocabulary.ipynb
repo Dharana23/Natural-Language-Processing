{
  "nbformat": 4,
  "nbformat_minor": 0,
  "metadata": {
    "colab": {
      "name": "Phrase-matching-and-Vocabulary.ipynb",
      "provenance": [],
      "collapsed_sections": []
    },
    "kernelspec": {
      "name": "python3",
      "display_name": "Python 3"
    },
    "accelerator": "GPU"
  },
  "cells": [
    {
      "cell_type": "code",
      "metadata": {
        "id": "fJI3IdVgAyQZ",
        "colab_type": "code",
        "colab": {}
      },
      "source": [
        "import spacy\n",
        "nlp = spacy.load('en_core_web_sm')"
      ],
      "execution_count": 0,
      "outputs": []
    },
    {
      "cell_type": "code",
      "metadata": {
        "id": "m6FmByF8B96X",
        "colab_type": "code",
        "colab": {}
      },
      "source": [
        "from spacy.matcher import Matcher"
      ],
      "execution_count": 0,
      "outputs": []
    },
    {
      "cell_type": "code",
      "metadata": {
        "id": "l64V8HgYCSu6",
        "colab_type": "code",
        "colab": {}
      },
      "source": [
        "matcher = Matcher(nlp.vocab)"
      ],
      "execution_count": 0,
      "outputs": []
    },
    {
      "cell_type": "code",
      "metadata": {
        "id": "wD9MqtHLCVSY",
        "colab_type": "code",
        "colab": {}
      },
      "source": [
        "pattern1 = [{'LOWER':'solarpower'}]\n",
        "pattern2 = [{'LOWER':'solar'}, {'Is_PUNCT':True}, {'LOWER':'power'}]\n",
        "pattern3 = [{'LOWER':'solar'}, {'LOWER':'power'}]"
      ],
      "execution_count": 0,
      "outputs": []
    },
    {
      "cell_type": "code",
      "metadata": {
        "id": "0ytlaGXkC9d3",
        "colab_type": "code",
        "colab": {}
      },
      "source": [
        "matcher.add('SolarPower', None, pattern1, pattern2, pattern3)"
      ],
      "execution_count": 0,
      "outputs": []
    },
    {
      "cell_type": "code",
      "metadata": {
        "id": "KwwV4yg5DbII",
        "colab_type": "code",
        "colab": {}
      },
      "source": [
        "doc = nlp(u\"The Solar Power industry continues to grow as solarpower increases. Solar-power is amazing.\")"
      ],
      "execution_count": 0,
      "outputs": []
    },
    {
      "cell_type": "code",
      "metadata": {
        "id": "QxEup1osDuhD",
        "colab_type": "code",
        "colab": {}
      },
      "source": [
        "found_matches = matcher(doc)"
      ],
      "execution_count": 0,
      "outputs": []
    },
    {
      "cell_type": "code",
      "metadata": {
        "id": "l-Ivot8AD1gb",
        "colab_type": "code",
        "colab": {
          "base_uri": "https://localhost:8080/",
          "height": 69
        },
        "outputId": "1c0b3d61-918a-47b4-c013-ce02b7df191d"
      },
      "source": [
        "found_matches"
      ],
      "execution_count": 51,
      "outputs": [
        {
          "output_type": "execute_result",
          "data": {
            "text/plain": [
              "[(8656102463236116519, 1, 3),\n",
              " (8656102463236116519, 8, 9),\n",
              " (8656102463236116519, 11, 14)]"
            ]
          },
          "metadata": {
            "tags": []
          },
          "execution_count": 51
        }
      ]
    },
    {
      "cell_type": "code",
      "metadata": {
        "id": "ngVl3cZuD26-",
        "colab_type": "code",
        "colab": {
          "base_uri": "https://localhost:8080/",
          "height": 69
        },
        "outputId": "b66bb7f6-e577-4a62-997f-993595c96967"
      },
      "source": [
        "for match_id, start, end in found_matches:\n",
        "  string_id = nlp.vocab.strings[match_id]\n",
        "  span = doc[start:end]\n",
        "  print(match_id, string_id, start, end, span.text)"
      ],
      "execution_count": 52,
      "outputs": [
        {
          "output_type": "stream",
          "text": [
            "8656102463236116519 SolarPower 1 3 Solar Power\n",
            "8656102463236116519 SolarPower 8 9 solarpower\n",
            "8656102463236116519 SolarPower 11 14 Solar-power\n"
          ],
          "name": "stdout"
        }
      ]
    },
    {
      "cell_type": "code",
      "metadata": {
        "id": "t7rO3XT0EZ2A",
        "colab_type": "code",
        "colab": {}
      },
      "source": [
        "matcher.remove('SolarPower')"
      ],
      "execution_count": 0,
      "outputs": []
    },
    {
      "cell_type": "code",
      "metadata": {
        "id": "bSIvtVT7Ex2_",
        "colab_type": "code",
        "colab": {}
      },
      "source": [
        "pattern1 = [{'LOWER':'solarpower'}]\n",
        "pattern2 = [{'LOWER':'solar'}, {'Is_PUNCT':True, 'OP':'*'}, {'LOWER':'power'}]"
      ],
      "execution_count": 0,
      "outputs": []
    },
    {
      "cell_type": "code",
      "metadata": {
        "id": "wKoIrteBFGOW",
        "colab_type": "code",
        "colab": {}
      },
      "source": [
        "matcher.add('SolarPower', None, pattern1, pattern2)"
      ],
      "execution_count": 0,
      "outputs": []
    },
    {
      "cell_type": "code",
      "metadata": {
        "id": "Ns1nKSPfFS6z",
        "colab_type": "code",
        "colab": {}
      },
      "source": [
        "doc2 = nlp(u\"Solar--power is solarpower!\")"
      ],
      "execution_count": 0,
      "outputs": []
    },
    {
      "cell_type": "code",
      "metadata": {
        "id": "85ljVVgqFldx",
        "colab_type": "code",
        "colab": {}
      },
      "source": [
        "found_matches = matcher(doc2)"
      ],
      "execution_count": 0,
      "outputs": []
    },
    {
      "cell_type": "code",
      "metadata": {
        "id": "MgzBG42FFoFF",
        "colab_type": "code",
        "colab": {
          "base_uri": "https://localhost:8080/",
          "height": 34
        },
        "outputId": "56072d63-371d-427f-8b5a-506cc9517f1f"
      },
      "source": [
        "print(found_matches)"
      ],
      "execution_count": 58,
      "outputs": [
        {
          "output_type": "stream",
          "text": [
            "[(8656102463236116519, 0, 3), (8656102463236116519, 4, 5)]\n"
          ],
          "name": "stdout"
        }
      ]
    },
    {
      "cell_type": "code",
      "metadata": {
        "id": "IVdZqfVoFp9F",
        "colab_type": "code",
        "colab": {}
      },
      "source": [
        "from spacy.matcher import PhraseMatcher"
      ],
      "execution_count": 0,
      "outputs": []
    },
    {
      "cell_type": "code",
      "metadata": {
        "id": "1_wTQCDhGSKc",
        "colab_type": "code",
        "colab": {}
      },
      "source": [
        "matcher = PhraseMatcher(nlp.vocab)"
      ],
      "execution_count": 0,
      "outputs": []
    },
    {
      "cell_type": "code",
      "metadata": {
        "id": "xQEhMPDOGYIf",
        "colab_type": "code",
        "colab": {}
      },
      "source": [
        "f = open('/content/reaganomics.txt','r',encoding='utf8',errors=\"ignore\")\n",
        "doc3 = nlp(f.read())"
      ],
      "execution_count": 0,
      "outputs": []
    },
    {
      "cell_type": "code",
      "metadata": {
        "id": "MPCiQGCWG7gu",
        "colab_type": "code",
        "colab": {}
      },
      "source": [
        "phrase_list = ['voodoo economics', 'supply-side economics', 'trickle-down economics', 'free-market economics']"
      ],
      "execution_count": 0,
      "outputs": []
    },
    {
      "cell_type": "code",
      "metadata": {
        "id": "BaPG7Wp_KV_z",
        "colab_type": "code",
        "colab": {}
      },
      "source": [
        "phrase_patterns = [nlp(text) for text in phrase_list]"
      ],
      "execution_count": 0,
      "outputs": []
    },
    {
      "cell_type": "code",
      "metadata": {
        "id": "f0wM0NvrKdVN",
        "colab_type": "code",
        "colab": {}
      },
      "source": [
        "matcher.add('EconMatcher', None, *phrase_patterns)"
      ],
      "execution_count": 0,
      "outputs": []
    },
    {
      "cell_type": "code",
      "metadata": {
        "id": "gwWigbFDKrV4",
        "colab_type": "code",
        "colab": {}
      },
      "source": [
        "found_matches = matcher(doc3)"
      ],
      "execution_count": 0,
      "outputs": []
    },
    {
      "cell_type": "code",
      "metadata": {
        "id": "WnTItk8pKw_u",
        "colab_type": "code",
        "colab": {
          "base_uri": "https://localhost:8080/",
          "height": 121
        },
        "outputId": "764d4653-b571-42ed-c2b3-884354e6b1f5"
      },
      "source": [
        "found_matches"
      ],
      "execution_count": 68,
      "outputs": [
        {
          "output_type": "execute_result",
          "data": {
            "text/plain": [
              "[(3680293220734633682, 41, 45),\n",
              " (3680293220734633682, 49, 53),\n",
              " (3680293220734633682, 54, 56),\n",
              " (3680293220734633682, 61, 65),\n",
              " (3680293220734633682, 673, 677),\n",
              " (3680293220734633682, 2986, 2990)]"
            ]
          },
          "metadata": {
            "tags": []
          },
          "execution_count": 68
        }
      ]
    },
    {
      "cell_type": "code",
      "metadata": {
        "id": "oubDLCoyKyt8",
        "colab_type": "code",
        "colab": {
          "base_uri": "https://localhost:8080/",
          "height": 121
        },
        "outputId": "4fcbbb1c-3f2b-47c9-bed6-d4fec2fec648"
      },
      "source": [
        "for match_id, start, end in found_matches:\n",
        "  string_id = nlp.vocab.strings[match_id]\n",
        "  span = doc3[start:end]\n",
        "  print(match_id, string_id, start, end, span.text)"
      ],
      "execution_count": 72,
      "outputs": [
        {
          "output_type": "stream",
          "text": [
            "3680293220734633682 EconMatcher 41 45 supply-side economics\n",
            "3680293220734633682 EconMatcher 49 53 trickle-down economics\n",
            "3680293220734633682 EconMatcher 54 56 voodoo economics\n",
            "3680293220734633682 EconMatcher 61 65 free-market economics\n",
            "3680293220734633682 EconMatcher 673 677 supply-side economics\n",
            "3680293220734633682 EconMatcher 2986 2990 trickle-down economics\n"
          ],
          "name": "stdout"
        }
      ]
    },
    {
      "cell_type": "code",
      "metadata": {
        "id": "3XO4_7kyK6Rh",
        "colab_type": "code",
        "colab": {}
      },
      "source": [
        "f.close()"
      ],
      "execution_count": 0,
      "outputs": []
    },
    {
      "cell_type": "code",
      "metadata": {
        "id": "kz2P595ILO16",
        "colab_type": "code",
        "colab": {}
      },
      "source": [
        ""
      ],
      "execution_count": 0,
      "outputs": []
    }
  ]
}
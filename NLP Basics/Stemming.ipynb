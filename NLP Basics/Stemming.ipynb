{
  "nbformat": 4,
  "nbformat_minor": 0,
  "metadata": {
    "colab": {
      "name": "Stemming.ipynb",
      "provenance": [],
      "collapsed_sections": []
    },
    "kernelspec": {
      "name": "python3",
      "display_name": "Python 3"
    },
    "accelerator": "GPU"
  },
  "cells": [
    {
      "cell_type": "code",
      "metadata": {
        "id": "vvYbxqhqtFfx",
        "colab_type": "code",
        "colab": {}
      },
      "source": [
        "import nltk"
      ],
      "execution_count": 0,
      "outputs": []
    },
    {
      "cell_type": "code",
      "metadata": {
        "id": "cwznh4cP020t",
        "colab_type": "code",
        "colab": {}
      },
      "source": [
        "from nltk.stem.porter import PorterStemmer"
      ],
      "execution_count": 0,
      "outputs": []
    },
    {
      "cell_type": "code",
      "metadata": {
        "id": "cdOsOniP08wo",
        "colab_type": "code",
        "colab": {}
      },
      "source": [
        "p_stemmer = PorterStemmer()"
      ],
      "execution_count": 0,
      "outputs": []
    },
    {
      "cell_type": "code",
      "metadata": {
        "id": "20UZph0D1AL6",
        "colab_type": "code",
        "colab": {}
      },
      "source": [
        "words = ['run', 'runner', 'ran', 'runs', 'easily', 'fairly', 'fairness']"
      ],
      "execution_count": 0,
      "outputs": []
    },
    {
      "cell_type": "code",
      "metadata": {
        "id": "_tcI549O1MN0",
        "colab_type": "code",
        "colab": {
          "base_uri": "https://localhost:8080/",
          "height": 139
        },
        "outputId": "0b417535-40c0-44ed-ea47-d7fd7e8c98f0"
      },
      "source": [
        "for word in words:\n",
        "  print(word + '------->' + p_stemmer.stem(word))"
      ],
      "execution_count": 10,
      "outputs": [
        {
          "output_type": "stream",
          "text": [
            "run------->run\n",
            "runner------->runner\n",
            "ran------->ran\n",
            "runs------->run\n",
            "easily------->easili\n",
            "fairly------->fairli\n",
            "fairness------->fair\n"
          ],
          "name": "stdout"
        }
      ]
    },
    {
      "cell_type": "code",
      "metadata": {
        "id": "kDTWk3bI1U59",
        "colab_type": "code",
        "colab": {}
      },
      "source": [
        "from nltk.stem.snowball import SnowballStemmer"
      ],
      "execution_count": 0,
      "outputs": []
    },
    {
      "cell_type": "code",
      "metadata": {
        "id": "zMmEkJAa1tVh",
        "colab_type": "code",
        "colab": {}
      },
      "source": [
        "s_stemmer = SnowballStemmer(language='english')"
      ],
      "execution_count": 0,
      "outputs": []
    },
    {
      "cell_type": "code",
      "metadata": {
        "id": "taabaFah1yLd",
        "colab_type": "code",
        "colab": {
          "base_uri": "https://localhost:8080/",
          "height": 139
        },
        "outputId": "28370759-5d9a-4e24-df4d-84dd98daac10"
      },
      "source": [
        "for word in words:\n",
        "  print(word + '------>' + s_stemmer.stem(word))"
      ],
      "execution_count": 13,
      "outputs": [
        {
          "output_type": "stream",
          "text": [
            "run------>run\n",
            "runner------>runner\n",
            "ran------>ran\n",
            "runs------>run\n",
            "easily------>easili\n",
            "fairly------>fair\n",
            "fairness------>fair\n"
          ],
          "name": "stdout"
        }
      ]
    },
    {
      "cell_type": "code",
      "metadata": {
        "id": "7J9LTfV415jT",
        "colab_type": "code",
        "colab": {}
      },
      "source": [
        "words = ['generous', 'generation', 'generously', 'generate']"
      ],
      "execution_count": 0,
      "outputs": []
    },
    {
      "cell_type": "code",
      "metadata": {
        "id": "N25tVrwo2VeP",
        "colab_type": "code",
        "colab": {
          "base_uri": "https://localhost:8080/",
          "height": 86
        },
        "outputId": "31db0d4c-836d-4e30-f4db-15caef3606e2"
      },
      "source": [
        "for word in words:\n",
        "  print(word + '------>' + s_stemmer.stem(word))"
      ],
      "execution_count": 15,
      "outputs": [
        {
          "output_type": "stream",
          "text": [
            "generous------>generous\n",
            "generation------>generat\n",
            "generously------>generous\n",
            "generate------>generat\n"
          ],
          "name": "stdout"
        }
      ]
    },
    {
      "cell_type": "code",
      "metadata": {
        "id": "LVvdLFLs2bN3",
        "colab_type": "code",
        "colab": {}
      },
      "source": [
        ""
      ],
      "execution_count": 0,
      "outputs": []
    }
  ]
}
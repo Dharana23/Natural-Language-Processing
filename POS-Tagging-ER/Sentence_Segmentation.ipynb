{
  "nbformat": 4,
  "nbformat_minor": 0,
  "metadata": {
    "colab": {
      "name": "Sentence-Segmentation.ipynb",
      "provenance": [],
      "collapsed_sections": []
    },
    "kernelspec": {
      "name": "python3",
      "display_name": "Python 3"
    },
    "accelerator": "GPU"
  },
  "cells": [
    {
      "cell_type": "code",
      "metadata": {
        "id": "csn_TeFx36nA",
        "colab_type": "code",
        "colab": {}
      },
      "source": [
        "import spacy\n",
        "nlp = spacy.load('en_core_web_sm')"
      ],
      "execution_count": 0,
      "outputs": []
    },
    {
      "cell_type": "code",
      "metadata": {
        "id": "ZJEYfSs-4GFk",
        "colab_type": "code",
        "colab": {}
      },
      "source": [
        "doc = nlp(u\"This is the first sentence. This is another sentence. This is the last sentence.\")"
      ],
      "execution_count": 0,
      "outputs": []
    },
    {
      "cell_type": "code",
      "metadata": {
        "id": "PoFBM95r4Qvq",
        "colab_type": "code",
        "colab": {
          "base_uri": "https://localhost:8080/",
          "height": 69
        },
        "outputId": "c211e356-ce01-414b-9bde-fefedd847471"
      },
      "source": [
        "for sent in doc.sents:\n",
        "  print(sent)"
      ],
      "execution_count": 3,
      "outputs": [
        {
          "output_type": "stream",
          "text": [
            "This is the first sentence.\n",
            "This is another sentence.\n",
            "This is the last sentence.\n"
          ],
          "name": "stdout"
        }
      ]
    },
    {
      "cell_type": "code",
      "metadata": {
        "id": "kqewzofh4T7P",
        "colab_type": "code",
        "colab": {
          "base_uri": "https://localhost:8080/",
          "height": 34
        },
        "outputId": "fc746430-b63b-4dba-a64a-08724fe5eb74"
      },
      "source": [
        "list(doc.sents)[0]"
      ],
      "execution_count": 4,
      "outputs": [
        {
          "output_type": "execute_result",
          "data": {
            "text/plain": [
              "This is the first sentence."
            ]
          },
          "metadata": {
            "tags": []
          },
          "execution_count": 4
        }
      ]
    },
    {
      "cell_type": "code",
      "metadata": {
        "id": "BzLo3U_M4iap",
        "colab_type": "code",
        "colab": {}
      },
      "source": [
        "doc = nlp(u'\"Management is doing the right thing; leadership is doing the right things.\" -Peter Drucker')"
      ],
      "execution_count": 0,
      "outputs": []
    },
    {
      "cell_type": "code",
      "metadata": {
        "id": "S-4nzzDC48uU",
        "colab_type": "code",
        "colab": {
          "base_uri": "https://localhost:8080/",
          "height": 69
        },
        "outputId": "78b3ea69-6dcf-42b8-ddfe-9bd5cbcfd167"
      },
      "source": [
        "for sent in doc.sents:\n",
        "  print(sent)"
      ],
      "execution_count": 6,
      "outputs": [
        {
          "output_type": "stream",
          "text": [
            "\"Management is doing the right thing; leadership is doing the right things.\"\n",
            "-Peter\n",
            "Drucker\n"
          ],
          "name": "stdout"
        }
      ]
    },
    {
      "cell_type": "code",
      "metadata": {
        "id": "uG-roTsz5Et5",
        "colab_type": "code",
        "colab": {}
      },
      "source": [
        "def set_custom_boundaries(doc):\n",
        "  for token in doc[:-1]:\n",
        "    if token.text == ';':\n",
        "      doc[token.i+1].is_sent_start = True\n",
        "  return doc"
      ],
      "execution_count": 0,
      "outputs": []
    },
    {
      "cell_type": "code",
      "metadata": {
        "id": "MpzRi6om5wD4",
        "colab_type": "code",
        "colab": {
          "base_uri": "https://localhost:8080/",
          "height": 34
        },
        "outputId": "6b0b219b-06c8-43fc-d7df-5c0a76a3fbb7"
      },
      "source": [
        "nlp.add_pipe(set_custom_boundaries, before='parser')\n",
        "nlp.pipe_names"
      ],
      "execution_count": 8,
      "outputs": [
        {
          "output_type": "execute_result",
          "data": {
            "text/plain": [
              "['tagger', 'set_custom_boundaries', 'parser', 'ner']"
            ]
          },
          "metadata": {
            "tags": []
          },
          "execution_count": 8
        }
      ]
    },
    {
      "cell_type": "code",
      "metadata": {
        "id": "m65bNqw86YuG",
        "colab_type": "code",
        "colab": {}
      },
      "source": [
        "doc4 = nlp(u'\"Management is doing the right thing; leadership is doing the right things.\" -Peter Drucker')"
      ],
      "execution_count": 0,
      "outputs": []
    },
    {
      "cell_type": "code",
      "metadata": {
        "id": "OAIzhshJ6p8H",
        "colab_type": "code",
        "colab": {
          "base_uri": "https://localhost:8080/",
          "height": 86
        },
        "outputId": "5c70917f-0d0f-4f0b-be19-0ccbf73bac3e"
      },
      "source": [
        "for sent in doc4.sents:\n",
        "  print(sent)"
      ],
      "execution_count": 10,
      "outputs": [
        {
          "output_type": "stream",
          "text": [
            "\"Management is doing the right thing;\n",
            "leadership is doing the right things.\"\n",
            "-Peter\n",
            "Drucker\n"
          ],
          "name": "stdout"
        }
      ]
    },
    {
      "cell_type": "code",
      "metadata": {
        "id": "UdUfaFCy6vn_",
        "colab_type": "code",
        "colab": {}
      },
      "source": [
        "nlp = spacy.load('en_core_web_sm')"
      ],
      "execution_count": 0,
      "outputs": []
    },
    {
      "cell_type": "code",
      "metadata": {
        "id": "zdbgQLzX7Iae",
        "colab_type": "code",
        "colab": {}
      },
      "source": [
        "string = u\"This is a sentence. This is another.\\n\\nThis is a \\nthird sentence.\""
      ],
      "execution_count": 0,
      "outputs": []
    },
    {
      "cell_type": "code",
      "metadata": {
        "id": "AiR6_DhB7X9v",
        "colab_type": "code",
        "colab": {
          "base_uri": "https://localhost:8080/",
          "height": 86
        },
        "outputId": "591f574e-604c-4150-ba48-78efe5a11970"
      },
      "source": [
        "print(string)"
      ],
      "execution_count": 13,
      "outputs": [
        {
          "output_type": "stream",
          "text": [
            "This is a sentence. This is another.\n",
            "\n",
            "This is a \n",
            "third sentence.\n"
          ],
          "name": "stdout"
        }
      ]
    },
    {
      "cell_type": "code",
      "metadata": {
        "id": "sgyYdun_7Zdg",
        "colab_type": "code",
        "colab": {}
      },
      "source": [
        "doc = nlp(string)"
      ],
      "execution_count": 0,
      "outputs": []
    },
    {
      "cell_type": "code",
      "metadata": {
        "id": "ygSAxG7q7eCj",
        "colab_type": "code",
        "colab": {
          "base_uri": "https://localhost:8080/",
          "height": 121
        },
        "outputId": "fc9ba24b-0053-4685-b50e-87a34b525b7c"
      },
      "source": [
        "for sent in doc.sents:\n",
        "  print(sent)"
      ],
      "execution_count": 15,
      "outputs": [
        {
          "output_type": "stream",
          "text": [
            "This is a sentence.\n",
            "This is another.\n",
            "\n",
            "\n",
            "This is a \n",
            "third sentence.\n"
          ],
          "name": "stdout"
        }
      ]
    },
    {
      "cell_type": "code",
      "metadata": {
        "id": "eeTd2MQ37i84",
        "colab_type": "code",
        "colab": {}
      },
      "source": [
        "from spacy.pipeline import SentenceSegmenter"
      ],
      "execution_count": 0,
      "outputs": []
    },
    {
      "cell_type": "code",
      "metadata": {
        "id": "xyiVB9Ry7y7g",
        "colab_type": "code",
        "colab": {}
      },
      "source": [
        "def split_on_newlines(doc):\n",
        "  start = 0\n",
        "  seen_newline = False\n",
        "\n",
        "  for word in doc:\n",
        "    if seen_newline:\n",
        "      yield doc[start:word.i]\n",
        "      start = word.i\n",
        "      seen_newline = False\n",
        "    elif word.text.startswith('\\n'):\n",
        "      seen_newline = True\n",
        "\n",
        "  yield doc[start:]"
      ],
      "execution_count": 0,
      "outputs": []
    },
    {
      "cell_type": "code",
      "metadata": {
        "id": "bhPLTkbo8Mf7",
        "colab_type": "code",
        "colab": {}
      },
      "source": [
        "sbd = SentenceSegmenter(nlp.vocab, strategy=split_on_newlines)\n",
        "nlp.add_pipe(sbd)"
      ],
      "execution_count": 0,
      "outputs": []
    },
    {
      "cell_type": "code",
      "metadata": {
        "id": "WNFmoSSi8hZT",
        "colab_type": "code",
        "colab": {}
      },
      "source": [
        "doc = nlp(string)"
      ],
      "execution_count": 0,
      "outputs": []
    },
    {
      "cell_type": "code",
      "metadata": {
        "id": "38IIRNbi8ipW",
        "colab_type": "code",
        "colab": {
          "base_uri": "https://localhost:8080/",
          "height": 121
        },
        "outputId": "23d758f1-faf7-479e-ea5d-4538e6ebf3de"
      },
      "source": [
        "for sent in doc.sents:\n",
        "  print(sent)"
      ],
      "execution_count": 20,
      "outputs": [
        {
          "output_type": "stream",
          "text": [
            "This is a sentence. This is another.\n",
            "\n",
            "\n",
            "This is a \n",
            "\n",
            "third sentence.\n"
          ],
          "name": "stdout"
        }
      ]
    },
    {
      "cell_type": "code",
      "metadata": {
        "id": "PvReW2B-8kp2",
        "colab_type": "code",
        "colab": {}
      },
      "source": [
        ""
      ],
      "execution_count": 0,
      "outputs": []
    }
  ]
}
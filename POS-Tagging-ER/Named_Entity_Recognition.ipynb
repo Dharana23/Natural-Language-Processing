{
  "nbformat": 4,
  "nbformat_minor": 0,
  "metadata": {
    "colab": {
      "name": "Named-Entity-Recognition.ipynb",
      "provenance": [],
      "collapsed_sections": []
    },
    "kernelspec": {
      "name": "python3",
      "display_name": "Python 3"
    },
    "accelerator": "GPU"
  },
  "cells": [
    {
      "cell_type": "code",
      "metadata": {
        "id": "NWlxBy58QmMr",
        "colab_type": "code",
        "colab": {}
      },
      "source": [
        "import spacy\n",
        "nlp = spacy.load('en_core_web_sm')"
      ],
      "execution_count": 0,
      "outputs": []
    },
    {
      "cell_type": "code",
      "metadata": {
        "id": "ymY_Zobbqi1i",
        "colab_type": "code",
        "colab": {}
      },
      "source": [
        "def show_ents(doc):\n",
        "  if doc.ents:\n",
        "    for ent in doc.ents:\n",
        "      print(ent.text + ' - ' + ent.label_ + ' -' + str(spacy.explain(ent.label_)))\n",
        "\n",
        "  else:\n",
        "    print('No entities found')"
      ],
      "execution_count": 0,
      "outputs": []
    },
    {
      "cell_type": "code",
      "metadata": {
        "id": "0TuftyffrJEf",
        "colab_type": "code",
        "colab": {
          "base_uri": "https://localhost:8080/",
          "height": 34
        },
        "outputId": "22bcff0d-800a-4d02-96aa-ee20a8c4706e"
      },
      "source": [
        "doc = nlp(u\"Hi how are you?\")\n",
        "show_ents(doc)"
      ],
      "execution_count": 16,
      "outputs": [
        {
          "output_type": "stream",
          "text": [
            "No entities found\n"
          ],
          "name": "stdout"
        }
      ]
    },
    {
      "cell_type": "code",
      "metadata": {
        "id": "ezN2Fn2orOUA",
        "colab_type": "code",
        "colab": {
          "base_uri": "https://localhost:8080/",
          "height": 69
        },
        "outputId": "3a4b9e5d-cdd5-4d59-a860-0f7cd24d139b"
      },
      "source": [
        "doc = nlp(u\"May I go to Washington, DC next May to see the Washington Monument?\")\n",
        "show_ents(doc)"
      ],
      "execution_count": 17,
      "outputs": [
        {
          "output_type": "stream",
          "text": [
            "Washington - GPE -Countries, cities, states\n",
            "next May - DATE -Absolute or relative dates or periods\n",
            "the Washington Monument - ORG -Companies, agencies, institutions, etc.\n"
          ],
          "name": "stdout"
        }
      ]
    },
    {
      "cell_type": "code",
      "metadata": {
        "id": "6AgsGd8Nrd16",
        "colab_type": "code",
        "colab": {
          "base_uri": "https://localhost:8080/",
          "height": 52
        },
        "outputId": "07c6960d-ece1-4837-b640-b4768fd7a879"
      },
      "source": [
        "doc = nlp(u\"Can I please have 500 dollars of Microsoft stock?\")\n",
        "show_ents(doc)"
      ],
      "execution_count": 18,
      "outputs": [
        {
          "output_type": "stream",
          "text": [
            "500 dollars - MONEY -Monetary values, including unit\n",
            "Microsoft - ORG -Companies, agencies, institutions, etc.\n"
          ],
          "name": "stdout"
        }
      ]
    },
    {
      "cell_type": "code",
      "metadata": {
        "id": "w2B0LlngrxyF",
        "colab_type": "code",
        "colab": {
          "base_uri": "https://localhost:8080/",
          "height": 52
        },
        "outputId": "13ad5457-813d-4d20-fece-91a46a77f2b0"
      },
      "source": [
        "doc = nlp(u\"Tesla to build a U.K. factory for $6 million\")\n",
        "show_ents(doc)"
      ],
      "execution_count": 19,
      "outputs": [
        {
          "output_type": "stream",
          "text": [
            "U.K. - GPE -Countries, cities, states\n",
            "$6 million - MONEY -Monetary values, including unit\n"
          ],
          "name": "stdout"
        }
      ]
    },
    {
      "cell_type": "code",
      "metadata": {
        "id": "hQMUxgCksCxz",
        "colab_type": "code",
        "colab": {}
      },
      "source": [
        "from spacy.tokens import Span"
      ],
      "execution_count": 0,
      "outputs": []
    },
    {
      "cell_type": "code",
      "metadata": {
        "id": "kr9fT2-UsMi4",
        "colab_type": "code",
        "colab": {}
      },
      "source": [
        "ORG = doc.vocab.strings[u\"ORG\"]"
      ],
      "execution_count": 0,
      "outputs": []
    },
    {
      "cell_type": "code",
      "metadata": {
        "id": "DjvGoaAZsQek",
        "colab_type": "code",
        "colab": {
          "base_uri": "https://localhost:8080/",
          "height": 34
        },
        "outputId": "2d460c97-5d5b-4b5a-ebfc-cc1042ec8c05"
      },
      "source": [
        "ORG"
      ],
      "execution_count": 22,
      "outputs": [
        {
          "output_type": "execute_result",
          "data": {
            "text/plain": [
              "383"
            ]
          },
          "metadata": {
            "tags": []
          },
          "execution_count": 22
        }
      ]
    },
    {
      "cell_type": "code",
      "metadata": {
        "id": "wdRlVU1msSrX",
        "colab_type": "code",
        "colab": {}
      },
      "source": [
        "new_ent = Span(doc, 0, 1, label=ORG)"
      ],
      "execution_count": 0,
      "outputs": []
    },
    {
      "cell_type": "code",
      "metadata": {
        "id": "CgHzhB2tsYzy",
        "colab_type": "code",
        "colab": {}
      },
      "source": [
        "doc.ents = list(doc.ents) + [new_ent]"
      ],
      "execution_count": 0,
      "outputs": []
    },
    {
      "cell_type": "code",
      "metadata": {
        "id": "cbmm6Uaisfxw",
        "colab_type": "code",
        "colab": {
          "base_uri": "https://localhost:8080/",
          "height": 69
        },
        "outputId": "88632ccf-237c-456f-aedb-9eeeb8e0f8a3"
      },
      "source": [
        "show_ents(doc)"
      ],
      "execution_count": 25,
      "outputs": [
        {
          "output_type": "stream",
          "text": [
            "Tesla - ORG -Companies, agencies, institutions, etc.\n",
            "U.K. - GPE -Countries, cities, states\n",
            "$6 million - MONEY -Monetary values, including unit\n"
          ],
          "name": "stdout"
        }
      ]
    },
    {
      "cell_type": "code",
      "metadata": {
        "id": "aaX5eTolsnSA",
        "colab_type": "code",
        "colab": {}
      },
      "source": [
        "doc = nlp(u\"Our company created a brand new vacuum cleaner.\"\n",
        "          u\"This new vacuum-cleaner is the best in show.\")"
      ],
      "execution_count": 0,
      "outputs": []
    },
    {
      "cell_type": "code",
      "metadata": {
        "id": "modSp_QOta4k",
        "colab_type": "code",
        "colab": {
          "base_uri": "https://localhost:8080/",
          "height": 34
        },
        "outputId": "6441c1ac-de34-47f8-81d8-c2da06a6d373"
      },
      "source": [
        "show_ents(doc)"
      ],
      "execution_count": 27,
      "outputs": [
        {
          "output_type": "stream",
          "text": [
            "No entities found\n"
          ],
          "name": "stdout"
        }
      ]
    },
    {
      "cell_type": "code",
      "metadata": {
        "id": "BWFEBHcMtnmC",
        "colab_type": "code",
        "colab": {}
      },
      "source": [
        "from spacy.matcher import PhraseMatcher"
      ],
      "execution_count": 0,
      "outputs": []
    },
    {
      "cell_type": "code",
      "metadata": {
        "id": "FtSHzV26tvFF",
        "colab_type": "code",
        "colab": {}
      },
      "source": [
        "matcher = PhraseMatcher(nlp.vocab)"
      ],
      "execution_count": 0,
      "outputs": []
    },
    {
      "cell_type": "code",
      "metadata": {
        "id": "keCGy7uLtzau",
        "colab_type": "code",
        "colab": {}
      },
      "source": [
        "phrase_list = ['vacuum cleaner', 'vacuum-cleaner']\n",
        "phrase_patterns = [nlp(text) for text in phrase_list]\n",
        "matcher.add('newproduct', None, *phrase_patterns)"
      ],
      "execution_count": 0,
      "outputs": []
    },
    {
      "cell_type": "code",
      "metadata": {
        "id": "4NIIa-IkuEmg",
        "colab_type": "code",
        "colab": {
          "base_uri": "https://localhost:8080/",
          "height": 34
        },
        "outputId": "a17a3112-eb37-4c98-9315-c8187ca6d7ae"
      },
      "source": [
        "found_matches = matcher(doc)\n",
        "found_matches"
      ],
      "execution_count": 31,
      "outputs": [
        {
          "output_type": "execute_result",
          "data": {
            "text/plain": [
              "[(2689272359382549672, 6, 8), (2689272359382549672, 11, 14)]"
            ]
          },
          "metadata": {
            "tags": []
          },
          "execution_count": 31
        }
      ]
    },
    {
      "cell_type": "code",
      "metadata": {
        "id": "cst6yTr1uLzp",
        "colab_type": "code",
        "colab": {}
      },
      "source": [
        "PROD = doc.vocab.strings[u\"PRODUCT\"]\n",
        "new_ents = [Span(doc, match[1], match[2], label=PROD) for match in found_matches]"
      ],
      "execution_count": 0,
      "outputs": []
    },
    {
      "cell_type": "code",
      "metadata": {
        "id": "NWdtJ9JaujSH",
        "colab_type": "code",
        "colab": {}
      },
      "source": [
        "doc.ents = list(doc.ents) + new_ents "
      ],
      "execution_count": 0,
      "outputs": []
    },
    {
      "cell_type": "code",
      "metadata": {
        "id": "JiDMzamYu1wM",
        "colab_type": "code",
        "colab": {
          "base_uri": "https://localhost:8080/",
          "height": 52
        },
        "outputId": "8acc5fed-cd17-4c14-ebcb-868688cb3ed1"
      },
      "source": [
        "show_ents(doc)"
      ],
      "execution_count": 36,
      "outputs": [
        {
          "output_type": "stream",
          "text": [
            "vacuum cleaner - PRODUCT -Objects, vehicles, foods, etc. (not services)\n",
            "vacuum-cleaner - PRODUCT -Objects, vehicles, foods, etc. (not services)\n"
          ],
          "name": "stdout"
        }
      ]
    },
    {
      "cell_type": "code",
      "metadata": {
        "id": "AcazunEdu6Si",
        "colab_type": "code",
        "colab": {}
      },
      "source": [
        "doc = nlp(u\"Originally I paid $29.95 for this car toy, but now it id marked down by 10 dollars.\")"
      ],
      "execution_count": 0,
      "outputs": []
    },
    {
      "cell_type": "code",
      "metadata": {
        "id": "Ws-8-2JtvVdS",
        "colab_type": "code",
        "colab": {
          "base_uri": "https://localhost:8080/",
          "height": 34
        },
        "outputId": "b120d0fb-cdd7-4294-9a7d-b37537d7c3bb"
      },
      "source": [
        "[ent for ent in doc.ents if ent.label_ == \"MONEY\"]"
      ],
      "execution_count": 40,
      "outputs": [
        {
          "output_type": "execute_result",
          "data": {
            "text/plain": [
              "[29.95, 10 dollars]"
            ]
          },
          "metadata": {
            "tags": []
          },
          "execution_count": 40
        }
      ]
    },
    {
      "cell_type": "code",
      "metadata": {
        "id": "wwyEyicWvg1p",
        "colab_type": "code",
        "colab": {}
      },
      "source": [
        ""
      ],
      "execution_count": 0,
      "outputs": []
    }
  ]
}